{
 "cells": [
  {
   "cell_type": "markdown",
   "metadata": {},
   "source": [
    "# Nifti objects data type\n",
    "\n",
    "Another option for plotting and importing/exporting data is using the Nifti objects.  Nifti objects are a subclass of the neuroimaging format Nibabel NiftiImage, which is a file that generally has the extension “.nii” or “.nii.gz”.  This allows the user to use not only our methods with the Nifti class but supports other functionality such as Nibabel and Nilearn methods.  \n",
    "\n"
   ]
  },
  {
   "cell_type": "markdown",
   "metadata": {},
   "source": [
    "# Load in the required libraries"
   ]
  },
  {
   "cell_type": "code",
   "execution_count": null,
   "metadata": {
    "collapsed": true
   },
   "outputs": [],
   "source": [
    "import warnings \n",
    "warnings.simplefilter(\"ignore\")\n",
    "%matplotlib inline\n",
    "import supereeg as se"
   ]
  },
  {
   "cell_type": "markdown",
   "metadata": {},
   "source": [
    "First, let's load in our default nifti, `example_nifti`, that we made from gray matter masked MNI 152 brain sampled at 6mm resolution."
   ]
  },
  {
   "cell_type": "code",
   "execution_count": null,
   "metadata": {
    "collapsed": false
   },
   "outputs": [],
   "source": [
    "nii = se.load('example_nifti')"
   ]
  },
  {
   "cell_type": "markdown",
   "metadata": {},
   "source": [
    "\n",
    "# Initialize nifti objects\n",
    "\n",
    "Nifti objects can be initialized by passing a nifti object (ending in `.nii`), but can also be initialized with a model object or brain object by specifying `return_type` as `nii`, your desired `template` (`gray` or `std`) and voxel size as `vox_size` in the load function.  \n",
    "\n",
    "For example, you can load a brain object as a nifti object:"
   ]
  },
  {
   "cell_type": "code",
   "execution_count": null,
   "metadata": {
    "collapsed": false
   },
   "outputs": [],
   "source": [
    "bo_nii = se.load('example_data', return_type='nii')\n",
    "bo_nii.plot_glass_brain()"
   ]
  },
  {
   "cell_type": "markdown",
   "metadata": {},
   "source": [
    "# Nifti object methods\n",
    "\n",
    "Some useful methods on a nifti object:"
   ]
  },
  {
   "cell_type": "markdown",
   "metadata": {},
   "source": [
    "## `nifti.info()`\n",
    "This method will give you a summary of the nifti object:"
   ]
  },
  {
   "cell_type": "code",
   "execution_count": null,
   "metadata": {
    "collapsed": false
   },
   "outputs": [],
   "source": [
    "nii.info()"
   ]
  },
  {
   "cell_type": "markdown",
   "metadata": {},
   "source": [
    "## `nifti.get_slice()`\n",
    "\n",
    "This method allows you to slice out images from your nifti object, and returns the indexed nifti. "
   ]
  },
  {
   "cell_type": "code",
   "execution_count": null,
   "metadata": {
    "collapsed": false
   },
   "outputs": [],
   "source": [
    "nii_sliced = bo_nii.get_slice(index=[0,1,2])"
   ]
  },
  {
   "cell_type": "markdown",
   "metadata": {},
   "source": [
    "## `nifti.plot_glass_brain()`\n",
    "\n",
    "This method will plot your nifti object.\n",
    "\n",
    "\n",
    " This method wraps `nilearn.plot_glass_brain` to plot the nifti object, so any arguments that `nilearn.plot_glass_brain` accepts are supported by `nifti.plot_glass_brain`."
   ]
  },
  {
   "cell_type": "code",
   "execution_count": null,
   "metadata": {
    "collapsed": false
   },
   "outputs": [],
   "source": [
    "nii.plot_glass_brain()"
   ]
  },
  {
   "cell_type": "markdown",
   "metadata": {},
   "source": [
    "## `nifti.plot_anat()`\n",
    "\n",
    "This method will plot your nifti object.\n",
    "\n",
    "\n",
    "This method wraps `nilearn.plot_anat` to plot the nifti object, so any arguments that `nilearn.plot_anat` accepts are supported by `nifti.anat`."
   ]
  },
  {
   "cell_type": "code",
   "execution_count": null,
   "metadata": {
    "collapsed": false
   },
   "outputs": [],
   "source": [
    "nii.plot_anat()"
   ]
  },
  {
   "cell_type": "markdown",
   "metadata": {},
   "source": [
    "## `nifti.make_gif()`\n",
    "\n",
    "This method will plot 4D nifti data as `nilearn.plot_glass_brain`, save as png files, and compile the files as gif.\n",
    "\n",
    " This method wraps `nilearn.plot_glass_brain` to plot the nifti object, so any arguments that `nilearn.plot_glass_brain` accepts are supported by `nifti.plot_glass_brain`."
   ]
  },
  {
   "cell_type": "code",
   "execution_count": null,
   "metadata": {
    "collapsed": true
   },
   "outputs": [],
   "source": [
    "#nii.make_gif(gifpath='/path/to/save/gif', index=range(0, 10), name=None, **kwargs)"
   ]
  },
  {
   "cell_type": "markdown",
   "metadata": {},
   "source": [
    "## `nifti.save()`\n",
    "\n",
    "This method will save your nifti object to the specified filepath location as a 'nii' file."
   ]
  },
  {
   "cell_type": "code",
   "execution_count": null,
   "metadata": {
    "collapsed": true
   },
   "outputs": [],
   "source": [
    "#nii.save(filepath='/path/to/save/nifti')"
   ]
  },
  {
   "cell_type": "code",
   "execution_count": null,
   "metadata": {
    "collapsed": true
   },
   "outputs": [],
   "source": []
  }
 ],
 "metadata": {
  "kernelspec": {
   "display_name": "Python 2",
   "language": "python",
   "name": "python2"
  },
  "language_info": {
   "codemirror_mode": {
    "name": "ipython",
    "version": 2
   },
   "file_extension": ".py",
   "mimetype": "text/x-python",
   "name": "python",
   "nbconvert_exporter": "python",
   "pygments_lexer": "ipython2",
   "version": "2.7.10"
  }
 },
 "nbformat": 4,
 "nbformat_minor": 2
}
