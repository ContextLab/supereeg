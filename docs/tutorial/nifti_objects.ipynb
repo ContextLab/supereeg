{
 "cells": [
  {
   "cell_type": "markdown",
   "metadata": {},
   "source": [
    "# Nifti objects data type\n",
    "\n",
    "Another option for plotting and importing/exporting data is using the Nifti objects.  Nifti objects are a subclass of the neuroimaging format `Nibabel Nifti1Image`, which is a file that generally has the extension “.nii” or “.nii.gz”.  This allows the user to use our methods with the Nifti class but also use other functionality such as `Nibabel` and `Nilearn` methods.  \n",
    "\n"
   ]
  },
  {
   "cell_type": "markdown",
   "metadata": {},
   "source": [
    "# Load in the required libraries"
   ]
  },
  {
   "cell_type": "code",
   "execution_count": null,
   "metadata": {
    "collapsed": true
   },
   "outputs": [],
   "source": [
    "import warnings \n",
    "warnings.simplefilter(\"ignore\")\n",
    "%matplotlib inline\n",
    "import supereeg as se"
   ]
  },
  {
   "cell_type": "markdown",
   "metadata": {},
   "source": [
    "First, let's load in an example nifti file, `example_nifti`:"
   ]
  },
  {
   "cell_type": "code",
   "execution_count": null,
   "metadata": {},
   "outputs": [],
   "source": [
    "nii = se.load('example_nifti')"
   ]
  },
  {
   "cell_type": "markdown",
   "metadata": {},
   "source": [
    "\n",
    "# Initialize nifti objects\n",
    "\n",
    "`Nifti` objects can be initialized by passing any of the following to the `Nifti` class instance initialization function:\n",
    "- A path to a nifti file (ending in .nii or .nii.gz)\n",
    "- An existing Nifti object (this makes a copy of the object)\n",
    "- A path to any other toolbox-supported datatype, or an instance of another supported datatype (`Brain` or `Model` objects)\n",
    "\n",
    "You may also initialize a `Nifti` object using the `load` function by specifying `return_type='nii'`.\n",
    "\n",
    "For example:"
   ]
  },
  {
   "cell_type": "code",
   "execution_count": 1,
   "metadata": {},
   "outputs": [
    {
     "ename": "NameError",
     "evalue": "name 'se' is not defined",
     "output_type": "error",
     "traceback": [
      "\u001b[0;31m---------------------------------------------------------------------------\u001b[0m",
      "\u001b[0;31mNameError\u001b[0m                                 Traceback (most recent call last)",
      "\u001b[0;32m<ipython-input-1-bc368b77dbb9>\u001b[0m in \u001b[0;36m<module>\u001b[0;34m()\u001b[0m\n\u001b[0;32m----> 1\u001b[0;31m \u001b[0mbo_nii\u001b[0m \u001b[0;34m=\u001b[0m \u001b[0mse\u001b[0m\u001b[0;34m.\u001b[0m\u001b[0mNifti\u001b[0m\u001b[0;34m(\u001b[0m\u001b[0;34m'example_data'\u001b[0m\u001b[0;34m)\u001b[0m\u001b[0;34m\u001b[0m\u001b[0m\n\u001b[0m",
      "\u001b[0;31mNameError\u001b[0m: name 'se' is not defined"
     ]
    }
   ],
   "source": [
    "bo_nii = se.Nifti('example_data')"
   ]
  },
  {
   "cell_type": "markdown",
   "metadata": {},
   "source": [
    "Or:"
   ]
  },
  {
   "cell_type": "code",
   "execution_count": null,
   "metadata": {},
   "outputs": [],
   "source": [
    "bo_nii = se.load('example_data', return_type='nii')"
   ]
  },
  {
   "cell_type": "markdown",
   "metadata": {},
   "source": [
    "## Spatial resampling\n",
    "\n",
    "Any `Nifti` object may be quickly resampled to an arbitrary voxel size using the `vox_size` argument.  The voxel sizes may be specified either as a scalar (for cubic voxels) or as a 3D tuple (for rectangular prism or parallelopiped voxels):"
   ]
  },
  {
   "cell_type": "code",
   "execution_count": null,
   "metadata": {},
   "outputs": [],
   "source": [
    "bo_nii = se.Nifti('example_data', vox_size=6)"
   ]
  },
  {
   "cell_type": "markdown",
   "metadata": {},
   "source": [
    "# Nifti object methods\n",
    "\n",
    "Some useful methods on a nifti object:"
   ]
  },
  {
   "cell_type": "markdown",
   "metadata": {},
   "source": [
    "## `nifti.info()`\n",
    "This method will give you a summary of the nifti object:"
   ]
  },
  {
   "cell_type": "code",
   "execution_count": null,
   "metadata": {},
   "outputs": [],
   "source": [
    "nii.info()"
   ]
  },
  {
   "cell_type": "markdown",
   "metadata": {},
   "source": [
    "## `nifti.get_slice()`\n",
    "\n",
    "This method allows you to slice out images from your nifti object, and returns the indexed nifti. "
   ]
  },
  {
   "cell_type": "code",
   "execution_count": null,
   "metadata": {},
   "outputs": [],
   "source": [
    "nii_sliced = bo_nii.get_slice(index=[0,1,2])"
   ]
  },
  {
   "cell_type": "markdown",
   "metadata": {},
   "source": [
    "## `nifti.plot_glass_brain()`\n",
    "\n",
    "This method will plot your nifti object.\n",
    "\n",
    "\n",
    " This method wraps `nilearn.plot_glass_brain` to plot the nifti object, so any arguments that `nilearn.plot_glass_brain` accepts are supported by `nifti.plot_glass_brain`."
   ]
  },
  {
   "cell_type": "code",
   "execution_count": null,
   "metadata": {},
   "outputs": [],
   "source": [
    "nii_sliced.plot_glass_brain()"
   ]
  },
  {
   "cell_type": "markdown",
   "metadata": {},
   "source": [
    "## `nifti.plot_anat()`\n",
    "\n",
    "This method will plot your nifti object.\n",
    "\n",
    "\n",
    "This method wraps `nilearn.plot_anat` to plot the nifti object, so any arguments that `nilearn.plot_anat` accepts are supported by `nifti.anat`. For example, you can plot the example nifti:"
   ]
  },
  {
   "cell_type": "code",
   "execution_count": null,
   "metadata": {},
   "outputs": [],
   "source": [
    "nii.plot_anat()"
   ]
  },
  {
   "cell_type": "markdown",
   "metadata": {},
   "source": [
    "## `nifti.make_gif()`\n",
    "\n",
    "This method will plot 4D nifti data as `nilearn.plot_glass_brain`, save as png files, and compile the files as gif.\n",
    "\n",
    " This method wraps `nilearn.plot_glass_brain` to plot the nifti object, so any arguments that `nilearn.plot_glass_brain` accepts are supported by `nifti.plot_glass_brain`."
   ]
  },
  {
   "cell_type": "code",
   "execution_count": null,
   "metadata": {
    "collapsed": true
   },
   "outputs": [],
   "source": [
    "#nii.make_gif(gifpath='/path/to/save/gif', index=range(0, 10), name=None, **kwargs)"
   ]
  },
  {
   "cell_type": "markdown",
   "metadata": {},
   "source": [
    "## `nifti.save()`\n",
    "\n",
    "This method will save your nifti object to the specified filepath location as a 'nii' file."
   ]
  },
  {
   "cell_type": "code",
   "execution_count": null,
   "metadata": {
    "collapsed": true
   },
   "outputs": [],
   "source": [
    "#nii.save(filepath='/path/to/save/nifti')"
   ]
  }
 ],
 "metadata": {
  "kernelspec": {
   "display_name": "Python 2",
   "language": "python",
   "name": "python2"
  },
  "language_info": {
   "codemirror_mode": {
    "name": "ipython",
    "version": 2
   },
   "file_extension": ".py",
   "mimetype": "text/x-python",
   "name": "python",
   "nbconvert_exporter": "python",
   "pygments_lexer": "ipython2",
   "version": "2.7.11"
  }
 },
 "nbformat": 4,
 "nbformat_minor": 2
}
