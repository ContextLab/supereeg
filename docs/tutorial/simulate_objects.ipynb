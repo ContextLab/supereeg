{
 "cells": [
  {
   "cell_type": "markdown",
   "metadata": {},
   "source": [
    "# Simulate model objects and brain objects \n",
    "\n",
    "As mentioned in the previous tutorials, you can also simulate data.  You can simulate brain objects or you can simulate a list of brain objects to create a model.  In this tutorial, we will walk you through the simulate functions and explore varying parameters. "
   ]
  },
  {
   "cell_type": "markdown",
   "metadata": {},
   "source": [
    "# Load in the required libraries"
   ]
  },
  {
   "cell_type": "code",
   "execution_count": null,
   "metadata": {
    "collapsed": true
   },
   "outputs": [],
   "source": [
    "%matplotlib inline\n",
    "import supereeg as se\n",
    "import pandas as pd\n",
    "import seaborn as sns\n",
    "import numpy as np\n",
    "import matplotlib.pyplot as plt\n",
    "from supereeg.helpers import _corr_column"
   ]
  },
  {
   "cell_type": "markdown",
   "metadata": {},
   "source": [
    "# Simulate locations"
   ]
  },
  {
   "cell_type": "markdown",
   "metadata": {},
   "source": [
    "To begin, we can either simulate locations: "
   ]
  },
  {
   "cell_type": "code",
   "execution_count": null,
   "metadata": {
    "collapsed": false
   },
   "outputs": [],
   "source": [
    "sim_locs = se.simulate_locations()\n",
    "sim_locs.head()"
   ]
  },
  {
   "cell_type": "markdown",
   "metadata": {},
   "source": [
    "Or extract example locations:"
   ]
  },
  {
   "cell_type": "markdown",
   "metadata": {},
   "source": [
    "# Simulate brain object"
   ]
  },
  {
   "cell_type": "markdown",
   "metadata": {},
   "source": [
    "## `simulate_bo()`"
   ]
  },
  {
   "cell_type": "markdown",
   "metadata": {},
   "source": [
    "By default, the `simualate_bo` function will return a 1000 samples by 10 electrodes matrix, but you can specify the number of time samples with `n_samples`, sessions with `sessions`, and the number of electrodes with `n_elecs` or by passing specific electrodes with `locs`. "
   ]
  },
  {
   "cell_type": "code",
   "execution_count": null,
   "metadata": {
    "collapsed": true
   },
   "outputs": [],
   "source": [
    "# simulate brain object with example locations\n",
    "bo = se.simulate_bo(n_samples=1000, sample_rate=100, sessions=2)"
   ]
  },
  {
   "cell_type": "markdown",
   "metadata": {},
   "source": [
    "You can view your simulated data with `bo.plot_data` and simulated locations with `bo.plot_locs`."
   ]
  },
  {
   "cell_type": "code",
   "execution_count": null,
   "metadata": {
    "collapsed": false
   },
   "outputs": [],
   "source": [
    "# for plotting data, the default time window is first 10 seconds, but you can specifiy your own window\n",
    "bo.plot_data(time_min=5, time_max=10)\n",
    "\n",
    "# close plot\n",
    "plt.close()"
   ]
  },
  {
   "cell_type": "code",
   "execution_count": null,
   "metadata": {
    "collapsed": false,
    "scrolled": true
   },
   "outputs": [],
   "source": [
    "# plot locations\n",
    "bo.plot_locs()"
   ]
  },
  {
   "cell_type": "markdown",
   "metadata": {},
   "source": [
    "### Replicating simulated data with a random seed\n"
   ]
  },
  {
   "cell_type": "markdown",
   "metadata": {},
   "source": [
    "We've added a `random_seed=False` and `noise=.1` parameters as defaults.  But if you want to recreate the same brain object, you can set these flags to: `random_seed=True` and `noise=0`"
   ]
  },
  {
   "cell_type": "code",
   "execution_count": null,
   "metadata": {
    "collapsed": false
   },
   "outputs": [],
   "source": [
    "# if you want to simulate the same brain object again\n",
    "bo_1 = se.simulate_bo(n_samples=1000, sessions=2, n_elecs=5, random_seed=True, noise=0).get_data()\n",
    "bo_2 = se.simulate_bo(n_samples=1000, sessions=2, n_elecs=5, random_seed=True, noise=0).get_data()\n",
    "np.allclose(bo_1, bo_2)"
   ]
  },
  {
   "cell_type": "markdown",
   "metadata": {},
   "source": [
    "### Specify correlation matrix to generate simulated data\n",
    "\n",
    "We use a correlation matrix to impose on the simulated subject data. The default is `random` uses a positive semi-definite matrix created using random seed.  In this example we use `cov='toeplitz'` but options include: \n",
    "\n",
    "`'toeplitz'` - toeplitz matrix\n",
    "\n",
    "`'eye'` - identity matrix \n",
    "\n",
    "`'distance'` - distance matrix \n",
    "\n",
    "`'random'` - positive semi-definite random matrix \n"
   ]
  },
  {
   "cell_type": "code",
   "execution_count": null,
   "metadata": {
    "collapsed": true
   },
   "outputs": [],
   "source": [
    "# simulate more locations\n",
    "locs = se.simulate_locations(n_elecs=100)\n",
    "\n",
    "# create brain object with specified correlation matrix\n",
    "bo = se.simulate_bo(n_samples=100, sample_rate=1000, locs=locs, cov='toeplitz')"
   ]
  },
  {
   "cell_type": "markdown",
   "metadata": {},
   "source": [
    "You can also pass a custom covariance matrix in `cov`."
   ]
  },
  {
   "cell_type": "code",
   "execution_count": null,
   "metadata": {
    "collapsed": true
   },
   "outputs": [],
   "source": [
    "# create correlation matrix\n",
    "R = se.create_cov(cov='toeplitz', n_elecs=len(locs))\n",
    "\n",
    "# and use it to create a brain object\n",
    "bo = se.simulate_bo(n_samples=100, sample_rate=1000, locs=locs, cov=R)"
   ]
  },
  {
   "cell_type": "markdown",
   "metadata": {},
   "source": [
    "## Simulate model object "
   ]
  },
  {
   "cell_type": "markdown",
   "metadata": {},
   "source": [
    "## `simulate_model_bos()`"
   ]
  },
  {
   "cell_type": "markdown",
   "metadata": {},
   "source": [
    "You can create a simulated model object by passing a list of simulated brain objects. "
   ]
  },
  {
   "cell_type": "code",
   "execution_count": null,
   "metadata": {
    "collapsed": false
   },
   "outputs": [],
   "source": [
    "# number of subjects \n",
    "n_sub = 5\n",
    "\n",
    "# list of 5 simulated brain objects, each with 20 locations, for model \n",
    "model_bos = [se.simulate_model_bos(n_samples=100, sample_rate=1000, sample_locs=20, \n",
    "                                   locs=locs, cov=R) for x in range(n_sub)]\n",
    "\n",
    "# create model from list of brain objects\n",
    "model = se.Model(data=model_bos, locs=locs)\n",
    "\n",
    "# plot the model\n",
    "model.plot_data()\n",
    "\n",
    "# close plot\n",
    "plt.close()"
   ]
  },
  {
   "cell_type": "markdown",
   "metadata": {},
   "source": [
    "## Simulation Example 1:"
   ]
  },
  {
   "cell_type": "markdown",
   "metadata": {},
   "source": [
    "In this example we will parametrically vary how many subjects and how many\n",
    "electrodes per subject are used to create the model. We loop over number of subjects and\n",
    "number of randomly chosen electrodes and plot the model at each iteration. As\n",
    "the figure shows, the more subjects and electrodes, the better then recovery of\n",
    "the true model."
   ]
  },
  {
   "cell_type": "code",
   "execution_count": null,
   "metadata": {
    "collapsed": false,
    "scrolled": false
   },
   "outputs": [],
   "source": [
    "# n_samples\n",
    "n_samples = 100\n",
    "\n",
    "# initialize subplots\n",
    "f, axarr = plt.subplots(4, 4)\n",
    "\n",
    "f.set_size_inches(10,8)\n",
    "\n",
    "# loop over simulated subjects size\n",
    "for isub, n_subs in enumerate([10, 25, 50, 100]):\n",
    "    # loop over simulated electrodes\n",
    "    for ielec, n_elecs in enumerate([10, 25, 50, 100]):\n",
    "\n",
    "        # simulate brain objects for the model\n",
    "        model_bos = [se.simulate_model_bos(n_samples=n_samples, sample_rate=10, locs=locs,\n",
    "                                           sample_locs=n_elecs, cov=R) for x in range(n_subs)]\n",
    "\n",
    "        # create the model object\n",
    "        model = se.Model(data=model_bos, locs=locs)\n",
    "\n",
    "        # plot it\n",
    "        model.plot_data(ax=axarr[isub, ielec], yticklabels=False,\n",
    "                    xticklabels=False, cbar=False, vmin=0, vmax=1, show=False)\n",
    "\n",
    "        # set the title\n",
    "        axarr[isub, ielec].set_title(str(n_subs) + ' Subjects, ' + str(n_elecs) + ' Electrodes')\n",
    "\n",
    "\n",
    "plt.show()\n",
    "\n",
    "# close plot\n",
    "plt.close()"
   ]
  },
  {
   "cell_type": "markdown",
   "metadata": {},
   "source": [
    "## Simulation Example 2:"
   ]
  },
  {
   "cell_type": "markdown",
   "metadata": {},
   "source": [
    "In this example, we will simulate a model and some data, and see if we can\n",
    "recover the model from the data. \n",
    "\n",
    "First, we'll load in some example locations.\n",
    "Then, we will simulate correlational structure (a toeplitz matrix) to impose on\n",
    "our simulated data.  This will allow us to test whether we can recover the\n",
    "correlational structure in the data, and how that changes as a function of the\n",
    "number of subjects in the model. Then, we will simulate 10 subjects and create\n",
    "brain objects with their data.  \n",
    "\n",
    "The left figure shows the model derived from\n",
    "10 simulated subjects.  Finally, we simulate 10 additional subjects and use the\n",
    "model.update method to update an existing model with new data. On the right, the\n",
    "updated model is plotted. As is apparent from the figures, the more data in the\n",
    "model, the better the true correlational structure can be recovered."
   ]
  },
  {
   "cell_type": "code",
   "execution_count": null,
   "metadata": {
    "collapsed": false,
    "scrolled": true
   },
   "outputs": [],
   "source": [
    "# number of subjects\n",
    "n_subs = 10\n",
    "\n",
    "# number of electrodes\n",
    "n_elecs = 20\n",
    "\n",
    "# simulate brain objects for the model that subsample n_elecs for each synthetic patient\n",
    "model_bos = [se.simulate_model_bos(n_samples=1000, sample_rate=1000, locs=locs, sample_locs=n_elecs, cov='toeplitz') for x in\n",
    "                     range(n_subs)]\n",
    "\n",
    "# create the model object\n",
    "model = se.Model(data=model_bos, locs=locs)\n",
    "\n",
    "# brain object locations subsetted entirely from both model and gray locations - for this n > m (this isn't necessarily true, but this ensures overlap)\n",
    "sub_locs = locs.sample(n_elecs).sort_values(['x', 'y', 'z'])\n",
    "\n",
    "# simulate a new brain object using the same covariance matrix\n",
    "bo = se.simulate_bo(n_samples=100, sample_rate=1000, locs=sub_locs, cov='toeplitz')\n",
    "\n",
    "# update the model\n",
    "new_model = model.update(bo, inplace=False)\n",
    "\n",
    "# simulate brain objects for the model that subsample n_elecs for each synthetic patient\n",
    "model_update_bos = [se.simulate_model_bos(n_samples=100, sample_rate=1000, locs=locs, sample_locs=n_elecs, cov='toeplitz') for y in\n",
    "                     range(n_subs)]\n",
    "\n",
    "# update the model\n",
    "better_model = model.update(model_update_bos, inplace=False)\n",
    "\n",
    "# initialize subplots\n",
    "f, (ax1, ax2, ax3) = plt.subplots(1, 3)\n",
    "\n",
    "f.set_size_inches(15,5)\n",
    "\n",
    "# plot it and set the title\n",
    "model.plot_data(ax=ax1, yticklabels=False, xticklabels=False, cbar=True, vmin=0, vmax=1, show=False)\n",
    "ax1.set_title('Before updating model: 10 subjects total')\n",
    "ax1.plot()\n",
    "\n",
    "\n",
    "# plot it and set the title\n",
    "\n",
    "new_model.plot_data(ax=ax2, yticklabels=False, xticklabels=False, cbar=True, vmin=0, vmax=1, show=False)\n",
    "ax2.set_title('After updating model: 11 subjects total')\n",
    "\n",
    "\n",
    "# plot it and set the title\n",
    "better_model.plot_data(ax=ax3, yticklabels=False, xticklabels=False, cbar=True, vmin=0, vmax=1, show=False)\n",
    "ax3.set_title('After updating model: 20 subjects total')\n",
    "\n",
    "plt.tight_layout()\n",
    "plt.show()\n",
    "\n",
    "# close plot\n",
    "plt.close()"
   ]
  },
  {
   "cell_type": "code",
   "execution_count": null,
   "metadata": {
    "collapsed": true
   },
   "outputs": [],
   "source": []
  },
  {
   "cell_type": "markdown",
   "metadata": {},
   "source": [
    "## Simulation Example 3:"
   ]
  },
  {
   "cell_type": "markdown",
   "metadata": {},
   "source": [
    "In this example, we will loop over 3 verying parameters:\n",
    "\n",
    "`m_patients` - the number of subjects used to create the model\n",
    "\n",
    "`m_elecs` - the number of electrodes per subject used to create the model\n",
    "\n",
    "`n_elecs` - the number of electrodes for the reconstructed patient \n",
    "\n",
    "As the figure shows, the more subjects and electrodes, the better then recovery of\n",
    "the true model."
   ]
  },
  {
   "cell_type": "code",
   "execution_count": null,
   "metadata": {
    "collapsed": false,
    "scrolled": false
   },
   "outputs": [],
   "source": [
    "# n_electrodes - number of electrodes for reconstructed patient\n",
    "n_elecs = range(10, 100, 50)\n",
    "\n",
    "\n",
    "# m_patients - number of patients in the model\n",
    "m_patients = [5, 10]\n",
    "\n",
    "\n",
    "# m_electrodes - number of electrodes for each patient in the model\n",
    "m_elecs = range(10, 100, 50)\n",
    "\n",
    "\n",
    "iter_val = 1\n",
    "\n",
    "append_d = pd.DataFrame()\n",
    "\n",
    "param_grid = [(p, m, n) for p in m_patients for m in m_elecs for n in n_elecs]\n",
    "\n",
    "for p, m, n in param_grid:\n",
    "    d = []\n",
    "\n",
    "    for i in range(iter_val):\n",
    "        # create brain objects with m_patients and loop over the number of model locations and subset locations to build model\n",
    "        model_bos = [se.simulate_model_bos(n_samples=100, sample_rate=1000, locs=locs, sample_locs=m, noise =.3) for x in range(p)]\n",
    "\n",
    "        # create model from subsampled gray locations\n",
    "        model = se.Model(model_bos, locs=locs)\n",
    "\n",
    "        # brain object locations subsetted entirely from both model and gray locations\n",
    "        sub_locs = locs.sample(n).sort_values(['x', 'y', 'z'])\n",
    "\n",
    "        # simulate brain object\n",
    "        bo = se.simulate_bo(n_samples=100, sample_rate=1000, locs=locs, noise =.3)\n",
    "\n",
    "        # parse brain object to create synthetic patient data\n",
    "        data = bo.data.iloc[:, sub_locs.index]\n",
    "\n",
    "        # create synthetic patient (will compare remaining activations to predictions)\n",
    "        bo_sample = se.Brain(data=data.values, locs=sub_locs)\n",
    "\n",
    "        # reconstruct at 'unknown' locations\n",
    "        bo_r = model.predict(bo_sample)\n",
    "        \n",
    "        # find the reconstructed indices\n",
    "        recon_inds = np.where(np.array(bo_r.label) != 'observed')\n",
    "        \n",
    "        # sample reconstructed data a reconstructed indices\n",
    "        recon = bo_r[:, recon_inds[0]]\n",
    "\n",
    "        # sample actual data at reconstructed locations\n",
    "        actual = bo[:, recon_inds[0]]\n",
    "\n",
    "        # correlate reconstruction with actual data\n",
    "        corr_vals = _corr_column(actual.get_data().values, recon.get_data().values)\n",
    "        #corr_vals_sample = np.random.choice(corr_vals, 5)\n",
    "\n",
    "        d.append(\n",
    "            {'Subjects in model': p, 'Electrodes per subject in model': m, 'Electrodes per reconstructed subject': n,\n",
    "             'Average Correlation': corr_vals.mean(), 'Correlations': corr_vals})\n",
    "\n",
    "    d = pd.DataFrame(d, columns=['Subjects in model', 'Electrodes per subject in model',\n",
    "                                 'Electrodes per reconstructed subject', 'Average Correlation', 'Correlations'])\n",
    "    append_d = append_d.append(d)\n",
    "    append_d.index.rename('Iteration', inplace=True)\n",
    "\n",
    "new_df = append_d.groupby('Average Correlation').mean()\n",
    "\n",
    "#fig, axs = plt.subplots(ncols=len(np.unique(new_df['Subjects in model'])), sharex=True, sharey=True)\n",
    "fig, axs = plt.subplots(ncols=2, sharex=True, sharey=True)\n",
    "\n",
    "axs_iter = 0\n",
    "\n",
    "cbar_ax = fig.add_axes([.92, .3, .03, .4])\n",
    "\n",
    "fig.subplots_adjust(right=0.85)\n",
    "fig.set_size_inches(14,5)\n",
    "for i in np.unique(new_df['Subjects in model']):\n",
    "    data_plot = append_d[append_d['Subjects in model'] == i].pivot_table(index=['Electrodes per subject in model'],\n",
    "                                                                         columns='Electrodes per reconstructed subject',\n",
    "                                                                         values='Average Correlation')\n",
    "    axs[axs_iter].set_title('Patients = ' + str(i))\n",
    "    sns.heatmap(data_plot, cmap=\"coolwarm\", cbar=axs_iter == 0, ax=axs[axs_iter], cbar_ax=None if axs_iter else cbar_ax)\n",
    "    axs[axs_iter].invert_yaxis()\n",
    "    axs_iter += 1\n",
    "\n",
    "plt.show()"
   ]
  },
  {
   "cell_type": "markdown",
   "metadata": {},
   "source": [
    "Simulations run on the cluster:"
   ]
  },
  {
   "cell_type": "code",
   "execution_count": null,
   "metadata": {
    "collapsed": false
   },
   "outputs": [],
   "source": [
    "from IPython.display import Image\n",
    "Image(\"simulation_for_nb.png\")"
   ]
  }
 ],
 "metadata": {
  "kernelspec": {
   "display_name": "Python 2",
   "language": "python",
   "name": "python2"
  },
  "language_info": {
   "codemirror_mode": {
    "name": "ipython",
    "version": 2
   },
   "file_extension": ".py",
   "mimetype": "text/x-python",
   "name": "python",
   "nbconvert_exporter": "python",
   "pygments_lexer": "ipython2",
   "version": "2.7.10"
  }
 },
 "nbformat": 4,
 "nbformat_minor": 2
}
