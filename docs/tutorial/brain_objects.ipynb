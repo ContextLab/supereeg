{
 "cells": [
  {
   "cell_type": "markdown",
   "metadata": {},
   "source": [
    "# Building a brain object\n",
    "\n",
    "Brain objects are supereeg's fundamental data structure for a single subject's iEEG data.  To create one at minimum you'll need a matrix of neural recordings (time samples by electrodes), electrode locations, and a sample rate. Additionally, you can include information about separate recording sessions and store custom meta data. In this tutorial, we'll build a brain object from scratch and get familiar with some of the methods."
   ]
  },
  {
   "cell_type": "markdown",
   "metadata": {},
   "source": [
    "# Load in the required libraries"
   ]
  },
  {
   "cell_type": "code",
   "execution_count": null,
   "metadata": {
    "collapsed": true
   },
   "outputs": [],
   "source": [
    "import supereeg as se\n",
    "import numpy as np\n",
    "import warnings \n",
    "warnings.simplefilter(\"ignore\")\n",
    "%matplotlib inline"
   ]
  },
  {
   "cell_type": "markdown",
   "metadata": {},
   "source": [
    "# Simulate some data\n",
    "\n",
    "First, we'll use supereeg's built in simulation functions to simulate some data and electrodes. By default, the `simulate_data` function will return a 1000 samples by 10 electrodes matrix, but you can specify the number of time samples with `n_samples` and the number of electrodes with `n_elecs`. If you want further information on simulating data, check out the simulate tutorial!"
   ]
  },
  {
   "cell_type": "code",
   "execution_count": null,
   "metadata": {
    "collapsed": false
   },
   "outputs": [],
   "source": [
    "# simulate some data\n",
    "bo_data = se.simulate_bo(n_samples=1000, sessions=2, n_elecs=10)\n",
    "\n",
    "# plot it\n",
    "bo_data.plot_data()\n",
    "\n",
    "# get just data\n",
    "data = bo_data.get_data()"
   ]
  },
  {
   "cell_type": "markdown",
   "metadata": {},
   "source": [
    "We'll also simulate some electrode locations"
   ]
  },
  {
   "cell_type": "code",
   "execution_count": null,
   "metadata": {
    "collapsed": false
   },
   "outputs": [],
   "source": [
    "locs = se.simulate_locations()\n",
    "print(locs)"
   ]
  },
  {
   "cell_type": "markdown",
   "metadata": {},
   "source": [
    "# Creating a brain object\n",
    "\n",
    "To construct a new brain objects, simply pass the data and locations to the `Brain` class like this:"
   ]
  },
  {
   "cell_type": "code",
   "execution_count": null,
   "metadata": {
    "collapsed": true
   },
   "outputs": [],
   "source": [
    "bo = se.Brain(data=data, locs=locs, sample_rate=100)"
   ]
  },
  {
   "cell_type": "markdown",
   "metadata": {},
   "source": [
    "To view a summary of the contents of the brain object, you can call the `info` function:"
   ]
  },
  {
   "cell_type": "code",
   "execution_count": null,
   "metadata": {
    "collapsed": false
   },
   "outputs": [],
   "source": [
    "bo.info()"
   ]
  },
  {
   "cell_type": "markdown",
   "metadata": {},
   "source": [
    "Optionally, you can pass a `sessions` parameter, which is can be a numpy array or list the length of your data with a unique identifier for each session.  For example:"
   ]
  },
  {
   "cell_type": "code",
   "execution_count": null,
   "metadata": {
    "collapsed": false
   },
   "outputs": [],
   "source": [
    "sessions = np.array([1]*(data.shape[0]/2)+[2]*(data.shape[0]/2))\n",
    "bo = se.Brain(data=data, locs=locs, sample_rate=1000, sessions=sessions)\n",
    "bo.info()"
   ]
  },
  {
   "cell_type": "markdown",
   "metadata": {},
   "source": [
    "You can also add custom meta data to the brain object to help keep track of its contents. `meta` is a dictionary comprised of whatever you want:"
   ]
  },
  {
   "cell_type": "code",
   "execution_count": null,
   "metadata": {
    "collapsed": false
   },
   "outputs": [],
   "source": [
    "meta = {\n",
    "    'subjectID' : '123',\n",
    "    'Investigator' : 'Andy',\n",
    "    'Hospital' : 'DHMC'\n",
    "}\n",
    "bo = se.Brain(data=data, locs=locs, sample_rate=1000, sessions=sessions, meta=meta)\n",
    "bo.info()"
   ]
  },
  {
   "cell_type": "markdown",
   "metadata": {},
   "source": [
    "# Initialize brain objects\n",
    "\n",
    "Brain objects can be initialized by passing a brain object (ending in `.bo`), but can also be initialized with a model object or nifti object by specifying `return_type` as `bo` in the load function or passing the model object or nifti object to `se.Brain()`.  \n",
    "\n",
    "For example, you can load a nifti object as a brain object: "
   ]
  },
  {
   "cell_type": "code",
   "execution_count": null,
   "metadata": {
    "collapsed": true
   },
   "outputs": [],
   "source": [
    "nii_bo = se.load('example_nifti', return_type='bo')"
   ]
  },
  {
   "cell_type": "markdown",
   "metadata": {},
   "source": [
    "Or you can:"
   ]
  },
  {
   "cell_type": "code",
   "execution_count": null,
   "metadata": {
    "collapsed": false
   },
   "outputs": [],
   "source": [
    "nii_bo = se.Brain('example_nifti')"
   ]
  },
  {
   "cell_type": "markdown",
   "metadata": {},
   "source": [
    "Another feature, which can be particularly useful when working with lots of data, is loading only a subfield by specifiying `field`.  For example, if you only want to load locations:"
   ]
  },
  {
   "cell_type": "code",
   "execution_count": null,
   "metadata": {
    "collapsed": true
   },
   "outputs": [],
   "source": [
    "bo_locs = se.load('example_data', field='locs') "
   ]
  },
  {
   "cell_type": "markdown",
   "metadata": {},
   "source": [
    "# The structure of a brain object\n",
    "\n",
    "Inside the brain object, the iEEG data is stored as a Pandas DataFrame that can be accessed with the `get_data` function:"
   ]
  },
  {
   "cell_type": "code",
   "execution_count": null,
   "metadata": {
    "collapsed": false
   },
   "outputs": [],
   "source": [
    "bo.get_data().head()"
   ]
  },
  {
   "cell_type": "markdown",
   "metadata": {},
   "source": [
    "Similarly, the electrode locations are stored as a Pandas DataFrame, and can be retrieved using the `get_locs` method:"
   ]
  },
  {
   "cell_type": "code",
   "execution_count": null,
   "metadata": {
    "collapsed": false
   },
   "outputs": [],
   "source": [
    "bo.get_locs().head()"
   ]
  },
  {
   "cell_type": "markdown",
   "metadata": {},
   "source": [
    "Brain objects are iterable, so you index a brain object like this:"
   ]
  },
  {
   "cell_type": "code",
   "execution_count": null,
   "metadata": {
    "collapsed": false
   },
   "outputs": [],
   "source": [
    "#return first time sample\n",
    "bo[0]\n",
    "#return first 3 time samples\n",
    "bo[:3] \n",
    "#return first electrode\n",
    "bo[:, 0] \n",
    "#returns first 3 timesamples/elecs\n",
    "bo_i = bo[:3, :3] \n",
    "bo_i.get_data()"
   ]
  },
  {
   "cell_type": "markdown",
   "metadata": {},
   "source": [
    "You can also pass a list of indices for either `times` or `locs` to the `get_slice` method and return a subset of the brain object"
   ]
  },
  {
   "cell_type": "code",
   "execution_count": null,
   "metadata": {
    "collapsed": false
   },
   "outputs": [],
   "source": [
    "bo_s = bo.get_slice(sample_inds=[0,1,2], loc_inds=[0,1,2])\n",
    "bo_s.get_data()"
   ]
  },
  {
   "cell_type": "markdown",
   "metadata": {},
   "source": [
    "You can resample your data by specifying a new resample rate"
   ]
  },
  {
   "cell_type": "code",
   "execution_count": null,
   "metadata": {
    "collapsed": false
   },
   "outputs": [],
   "source": [
    "bo.resample(64)\n",
    "bo.info()"
   ]
  },
  {
   "cell_type": "markdown",
   "metadata": {},
   "source": [
    "You can also plot both the data and the electrode locations:"
   ]
  },
  {
   "cell_type": "code",
   "execution_count": null,
   "metadata": {
    "collapsed": false
   },
   "outputs": [],
   "source": [
    "bo.plot_data()"
   ]
  },
  {
   "cell_type": "code",
   "execution_count": null,
   "metadata": {
    "collapsed": false
   },
   "outputs": [],
   "source": [
    "bo.plot_locs()"
   ]
  },
  {
   "cell_type": "markdown",
   "metadata": {},
   "source": [
    "The other pieces of the brain object are listed below:"
   ]
  },
  {
   "cell_type": "code",
   "execution_count": null,
   "metadata": {
    "collapsed": true
   },
   "outputs": [],
   "source": [
    "# array of session identifiers for each timepoint\n",
    "sessions = bo.sessions\n",
    "\n",
    "# number of sessions\n",
    "n_sessions = bo.n_sessions\n",
    "\n",
    "# sample rate\n",
    "sample_rate = bo.sample_rate\n",
    "\n",
    "# number of electrodes\n",
    "n_elecs = bo.n_elecs\n",
    "\n",
    "# length of each recording session in seconds\n",
    "n_seconds = bo.n_secs\n",
    "\n",
    "# the date and time that the bo was created\n",
    "date_created = bo.date_created\n",
    "\n",
    "# kurtosis of each electrode\n",
    "kurtosis = bo.kurtosis\n",
    "\n",
    "# meta data\n",
    "meta = bo.meta\n",
    "\n",
    "# label delinieating observed and reconstructed locations\n",
    "label = bo.label"
   ]
  },
  {
   "cell_type": "markdown",
   "metadata": {},
   "source": [
    "# Brain object methods\n",
    "\n",
    "There are a few other useful methods on a brain object"
   ]
  },
  {
   "cell_type": "markdown",
   "metadata": {},
   "source": [
    "## `bo.info()`\n",
    "\n",
    "This method will give you a summary of the brain object:"
   ]
  },
  {
   "cell_type": "code",
   "execution_count": null,
   "metadata": {
    "collapsed": false
   },
   "outputs": [],
   "source": [
    "bo.info()"
   ]
  },
  {
   "cell_type": "markdown",
   "metadata": {},
   "source": [
    "## `bo.get_data()`"
   ]
  },
  {
   "cell_type": "code",
   "execution_count": null,
   "metadata": {
    "collapsed": true
   },
   "outputs": [],
   "source": [
    "data_array = bo.get_data()"
   ]
  },
  {
   "cell_type": "markdown",
   "metadata": {},
   "source": [
    "## `bo.get_zscore_data()`\n",
    "\n",
    "This method will return a numpy array of the zscored data:"
   ]
  },
  {
   "cell_type": "code",
   "execution_count": null,
   "metadata": {
    "collapsed": true
   },
   "outputs": [],
   "source": [
    "zdata_array = bo.get_zscore_data()"
   ]
  },
  {
   "cell_type": "markdown",
   "metadata": {},
   "source": [
    "## `bo.get_locs()`\n",
    "\n",
    "This method will return a numpy array of the electrode locations:"
   ]
  },
  {
   "cell_type": "code",
   "execution_count": null,
   "metadata": {
    "collapsed": true
   },
   "outputs": [],
   "source": [
    "locs = bo.get_locs()"
   ]
  },
  {
   "cell_type": "markdown",
   "metadata": {},
   "source": [
    "## `bo.get_slice()`\n",
    "This method allows you to slice out time and locations from the brain object, and returns a brain object. This can occur in place if you set the flag `inplace=True`."
   ]
  },
  {
   "cell_type": "code",
   "execution_count": null,
   "metadata": {
    "collapsed": true
   },
   "outputs": [],
   "source": [
    "bo_slice = bo.get_slice(sample_inds=None, loc_inds=None, inplace=False)"
   ]
  },
  {
   "cell_type": "markdown",
   "metadata": {},
   "source": [
    "## `bo.resample()`\n",
    "This method allows you resample a brain object in place. "
   ]
  },
  {
   "cell_type": "code",
   "execution_count": null,
   "metadata": {
    "collapsed": false
   },
   "outputs": [],
   "source": [
    "bo.resample(resample_rate=None)"
   ]
  },
  {
   "cell_type": "markdown",
   "metadata": {},
   "source": [
    "## `bo.plot_data()`\n",
    "\n",
    "This method normalizes and plots data from brain object:"
   ]
  },
  {
   "cell_type": "code",
   "execution_count": null,
   "metadata": {
    "collapsed": false
   },
   "outputs": [],
   "source": [
    "bo.plot_data()"
   ]
  },
  {
   "cell_type": "markdown",
   "metadata": {},
   "source": [
    "## `bo.plot_locs()`\n",
    "This method plots electrode locations from brain object:"
   ]
  },
  {
   "cell_type": "code",
   "execution_count": null,
   "metadata": {
    "collapsed": false
   },
   "outputs": [],
   "source": [
    "bo.plot_locs()"
   ]
  },
  {
   "cell_type": "markdown",
   "metadata": {},
   "source": [
    "## `bo.to_nii()`\n",
    "\n",
    "This method converts the brain object into supereeg's `nifti` class (a subclass of the `nibabel` nifti class).  If `filepath` is specified, the nifti file will be saved. You can also specify a nifti template with the `template` argument. If no template is specified, it will use the gray matter masked MNI 152 brain downsampled to 6mm.  "
   ]
  },
  {
   "cell_type": "code",
   "execution_count": null,
   "metadata": {
    "collapsed": false
   },
   "outputs": [],
   "source": [
    "# convert to nifti\n",
    "nii = bo.to_nii(template='gray', vox_size=6)\n",
    "\n",
    "# plot first timepoint\n",
    "nii.plot_glass_brain()\n",
    "\n",
    "# save the file\n",
    "# nii = bo.to_nii(filepath='/path/to/file/brain')\n",
    "\n",
    "# specify a template and resolution\n",
    "# nii = bo.to_nii(template='/path/to/nifti/file.nii', vox_size=20)"
   ]
  },
  {
   "cell_type": "markdown",
   "metadata": {},
   "source": [
    "## `bo.save(fname='something')`\n",
    "\n",
    "This method will save the brain object to the specified file location.\n",
    "The data will be saved as a 'bo' file, which is a dictionary containing the elements of a brain object saved in the hd5 format using `deepdish`."
   ]
  },
  {
   "cell_type": "code",
   "execution_count": null,
   "metadata": {
    "collapsed": true
   },
   "outputs": [],
   "source": [
    "#bo.save(fname='brain_object')"
   ]
  }
 ],
 "metadata": {
  "kernelspec": {
   "display_name": "Python 2",
   "language": "python",
   "name": "python2"
  },
  "language_info": {
   "codemirror_mode": {
    "name": "ipython",
    "version": 2
   },
   "file_extension": ".py",
   "mimetype": "text/x-python",
   "name": "python",
   "nbconvert_exporter": "python",
   "pygments_lexer": "ipython2",
   "version": "2.7.10"
  }
 },
 "nbformat": 4,
 "nbformat_minor": 1
}
