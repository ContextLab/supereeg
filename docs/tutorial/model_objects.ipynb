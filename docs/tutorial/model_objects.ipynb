{
 "cells": [
  {
   "cell_type": "markdown",
   "metadata": {},
   "source": [
    "# Model objects and predicting whole brain activity\n",
    "\n",
    "Model objects are superEEG's class that contains the model that reconstructs full brain activity timeseries from a smaller sample of electrodes. The superEEG package offers a few premade models that you can use to reconstruct brain activity, but also a way to create your own model if you have a dataset of intracranial patient data converted into the brain object format.  This tutorial will go over how to use the premade models included in this package, as well as make a new model from scratch."
   ]
  },
  {
   "cell_type": "markdown",
   "metadata": {},
   "source": [
    "# Load in the required libraries"
   ]
  },
  {
   "cell_type": "code",
   "execution_count": null,
   "metadata": {
    "collapsed": false
   },
   "outputs": [],
   "source": [
    "import superEEG as se\n",
    "import seaborn as sns\n",
    "import matplotlib.pyplot as plt\n",
    "from nilearn import plotting\n",
    "from nilearn import image\n",
    "import numpy as np"
   ]
  },
  {
   "cell_type": "markdown",
   "metadata": {},
   "source": [
    "First, let's load in our default model, `example_model`, that we made from the pyFR dataset sampled at 20mm resolution. Electrodes with a threshold exceeding 10 were removed from the dataset, and the radial basis function of with a width of 20 mm was used to 'fill in' nearby electrode sites during the model creation."
   ]
  },
  {
   "cell_type": "code",
   "execution_count": null,
   "metadata": {
    "collapsed": false
   },
   "outputs": [],
   "source": [
    "model = se.load('example_model')"
   ]
  },
  {
   "cell_type": "markdown",
   "metadata": {},
   "source": [
    "other model options:\n",
    "\n",
    "`pyFR_k10r20_6mm`\n",
    "\n",
    "`pyFR_k10r20_20mm`  \n",
    "\n",
    "Note: The last option is the same as the example_model, but saved as `.npz` instead of `.mo`.\n"
   ]
  },
  {
   "cell_type": "markdown",
   "metadata": {},
   "source": [
    "# Model object methods\n",
    "\n",
    "There are a few other useful methods on a brain object:"
   ]
  },
  {
   "cell_type": "markdown",
   "metadata": {},
   "source": [
    "## `mo.info()`\n",
    "\n",
    "This method will give you a summary of the brain object:"
   ]
  },
  {
   "cell_type": "code",
   "execution_count": null,
   "metadata": {
    "collapsed": false
   },
   "outputs": [],
   "source": [
    "model.info()"
   ]
  },
  {
   "cell_type": "markdown",
   "metadata": {},
   "source": [
    "## `mo.plot()`\n",
    "\n",
    "This method will plot your model.  \n",
    "\n",
    "The model is comprised of a number of fields.  The most important are the `model.numerator` and `model.denominator`.  Dividing these two fields gives a matrix of z-values, where the value in each cell represents the covariance between every model brain location with every other model brain location. To view the model, simply call the `model.plot` method.  This method wraps `seaborn.heatmap` to plot the model (transformed from z to r), so any arguments that `seaborn.heatmap` accepts are supported by `model.plot`."
   ]
  },
  {
   "cell_type": "code",
   "execution_count": null,
   "metadata": {
    "collapsed": false
   },
   "outputs": [],
   "source": [
    "model.plot(xticklabels=False, yticklabels=False)\n",
    "plt.show()"
   ]
  },
  {
   "cell_type": "markdown",
   "metadata": {},
   "source": [
    "## `mo.update()`\n",
    "\n",
    "This method allows you to update the model with addition subject data. \n",
    "\n",
    "To do this, we can use the `update` method, passing a new subjects data as a brain object. First, let's load in an example subjects data:"
   ]
  },
  {
   "cell_type": "code",
   "execution_count": null,
   "metadata": {
    "collapsed": false
   },
   "outputs": [],
   "source": [
    "bo = se.load('example_data')\n",
    "bo.info()"
   ]
  },
  {
   "cell_type": "markdown",
   "metadata": {},
   "source": [
    "Now you can update the model with that brain object:"
   ]
  },
  {
   "cell_type": "code",
   "execution_count": null,
   "metadata": {
    "collapsed": false
   },
   "outputs": [],
   "source": [
    "updated_model = model.update(bo)\n",
    "updated_model.info()"
   ]
  },
  {
   "cell_type": "markdown",
   "metadata": {},
   "source": [
    "Note that the model is now comprised of 67 subjects, instead of 66 before we updated it."
   ]
  },
  {
   "cell_type": "markdown",
   "metadata": {},
   "source": [
    "## `mo.save(fname='something')`\n",
    "This method will save the brain object to the specified file location.\n",
    "The data will be saved as a 'bo' file, which is a dictionary containing the elements of a brain object saved in the hd5 format using `deepdish`."
   ]
  },
  {
   "cell_type": "code",
   "execution_count": null,
   "metadata": {
    "collapsed": true
   },
   "outputs": [],
   "source": [
    "#mo.save(fname='model_object')"
   ]
  },
  {
   "cell_type": "markdown",
   "metadata": {},
   "source": [
    "## Creating a new model\n",
    "\n",
    "In addition to including a few premade models in the `superEEG` package, we also provide a way to construct a model from scratch. \n",
    "\n",
    "### Created from a list of brain objects:\n",
    "For example, if you have a dataset of iEEG patients, we provide a way to construct a model that will predict whole brain activity.  The more subjects you include in the model, the better it will be! To create a model, first you'll need to format your subject data into brain objects.  For the purpose of demonstration, we will simulate 10 subjects and construct the model from that data:"
   ]
  },
  {
   "cell_type": "code",
   "execution_count": null,
   "metadata": {
    "collapsed": false
   },
   "outputs": [],
   "source": [
    "n_subs = 10\n",
    "bos = [se.simulate_bo(sample_rate=1000) for i in range(n_subs)]\n",
    "bos[0].info()"
   ]
  },
  {
   "cell_type": "markdown",
   "metadata": {},
   "source": [
    "As you can see above, each simulated subject has 10 (randomly placed) 'electrodes', with 1 second of data each. To construct a model from these brain objects, simply pass them to the `se.Model` class, and a new model will be generated:"
   ]
  },
  {
   "cell_type": "code",
   "execution_count": null,
   "metadata": {
    "collapsed": false
   },
   "outputs": [],
   "source": [
    "new_model = se.Model(bos)\n",
    "new_model.info()"
   ]
  },
  {
   "cell_type": "markdown",
   "metadata": {},
   "source": [
    "### Created by adding to model object fields:\n",
    "\n",
    "Another option is to add a model directly. \n",
    "\n",
    "You can add your model to `model.numerator`, which comprises the sum of the zscored correlation matrices over subjects. The `model.denominator` field comprises the sum of the number of subjects contributing to each matrix cell in the `model.numerator` field. You can add the locations for the model in the field `locs` and the number of subjects to `n_subs`. \n",
    "\n",
    "In this next example, we're constructing the model from a toeplitz matrix with 10 subjects. We've updated the `model.numerator` field with the toeplitz matrix created in the function, `se.create_cov`, and locations loaded from `example_locations`. The `model.denominator` field in this case is a matrix of ones, but should be the number of subjects that contributed to each cell in the `model.numerator` field.\n",
    "\n",
    "You can also create a custom covariance matrix in `se.create_cov` by simply passing numpy array as and that is number of locations by number of locations to `cov` and the number of location to `n_elecs`.  "
   ]
  },
  {
   "cell_type": "code",
   "execution_count": null,
   "metadata": {
    "collapsed": false
   },
   "outputs": [],
   "source": [
    "locs = se.load('example_locations')\n",
    "R = se.create_cov(cov='toeplitz', n_elecs=len(locs))\n",
    "p = 10\n",
    "model = se.Model(numerator=R, denominator=np.ones(np.shape(R)), locs=locs, n_subs=p)\n",
    "model.plot(xticklabels=False, yticklabels=False)\n",
    "plt.show()"
   ]
  },
  {
   "cell_type": "markdown",
   "metadata": {},
   "source": [
    "In this example we passed a numpy array of custom MNI locations to predict.  \n",
    "\n",
    "However coordinates can also be derived by specifiying a `template` nifti file.  By default, the model is in MNI coordinates with 20mm resolution, but this can be easily switched to a different space using some templates we include in the package (6mm, 8mm, 20mm), or your own custom space (note: the model space MUST be in MNI coordinates)."
   ]
  },
  {
   "cell_type": "code",
   "execution_count": null,
   "metadata": {
    "collapsed": true
   },
   "outputs": [],
   "source": [
    "# new_model = se.Model(bos, template='/your/custom/MNI_template.nii')"
   ]
  },
  {
   "cell_type": "markdown",
   "metadata": {},
   "source": [
    "## Predicting whole brain activity\n",
    "\n",
    "## `mo.predict()`\n",
    "\n",
    "Now for the magic. `superEEG` uses **_gaussian process regression_** to infer whole brain activity given a smaller sampling of electrode recordings. To predict activity, simply call the `predict` method of a model and pass the subjects brain activity that you'd like to reconstruct:"
   ]
  },
  {
   "cell_type": "markdown",
   "metadata": {},
   "source": [
    "## `mo.predict(nearest_neighbor=True)`\n",
    "As default, the nearest voxel for each subject's electrode location is found and used as revised electrodes location matrix in the prediction. If `nearest_neighbor` is set to `False`, the original locations are used in the prediction.  "
   ]
  },
  {
   "cell_type": "markdown",
   "metadata": {},
   "source": [
    "## `mo.predict(force_update=False)`\n",
    "As default, the model is not updated with the subject's correlation matrix.  By setting `force_update` to `True`, you will update the model with the subject's correlation matrix.  "
   ]
  },
  {
   "cell_type": "code",
   "execution_count": null,
   "metadata": {
    "collapsed": false
   },
   "outputs": [],
   "source": [
    "# plot a slice of the original data\n",
    "print('BEFORE')\n",
    "print('------')\n",
    "bo.info()\n",
    "nii = bo.to_nii()\n",
    "nii_0 = image.index_img(nii, 1)\n",
    "plotting.plot_glass_brain(nii_0, display_mode='lyrz', threshold=0, colorbar='True')\n",
    "plotting.show()\n",
    "\n",
    "# voodoo magic\n",
    "bor = model.predict(bo)\n",
    "\n",
    "\n",
    "# plot a slice of the whole brain data\n",
    "print('AFTER')\n",
    "print('------')\n",
    "bor.info()\n",
    "nii = bor.to_nii()\n",
    "nii_0 = image.index_img(nii, 1)\n",
    "plotting.plot_glass_brain(nii_0, display_mode='lyrz', threshold=0, colorbar='True')\n",
    "plotting.show()"
   ]
  },
  {
   "cell_type": "markdown",
   "metadata": {},
   "source": [
    "Using the `superEEG` algorithm, we've 'reconstructed' whole brain activity from a smaller sample of electrodes. "
   ]
  }
 ],
 "metadata": {
  "kernelspec": {
   "display_name": "Python 2",
   "language": "python",
   "name": "python2"
  },
  "language_info": {
   "codemirror_mode": {
    "name": "ipython",
    "version": 2
   },
   "file_extension": ".py",
   "mimetype": "text/x-python",
   "name": "python",
   "nbconvert_exporter": "python",
   "pygments_lexer": "ipython2",
   "version": "2.7.10"
  }
 },
 "nbformat": 4,
 "nbformat_minor": 2
}
