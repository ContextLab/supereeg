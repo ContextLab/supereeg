{
 "cells": [
  {
   "cell_type": "markdown",
   "metadata": {},
   "source": [
    "# Model objects and predicting whole brain activity\n",
    "\n",
    "Model objects are supereeg's class that contains the correlation model that we use to reconstruct full-brain activity from recordings at an impoverished set of locations. The supereeg package offers a several pre-compiled models that you can use to reconstruct brain activity.  We also provide several ways of creating or specifying your own model.  This tutorial will review how to use the pre-made models included in this package and make a new model from scratch."
   ]
  },
  {
   "cell_type": "markdown",
   "metadata": {},
   "source": [
    "# Load in the required libraries"
   ]
  },
  {
   "cell_type": "code",
   "execution_count": null,
   "metadata": {
    "collapsed": true
   },
   "outputs": [],
   "source": [
    "import warnings \n",
    "warnings.simplefilter(\"ignore\")\n",
    "%matplotlib inline\n",
    "import supereeg as se\n",
    "import numpy as np"
   ]
  },
  {
   "cell_type": "markdown",
   "metadata": {},
   "source": [
    "First, let's load in our default model, `example_model`, that we made from the [pyFR dataset](http://memory.psych.upenn.edu/Request_EEG_access?paper=SedeEtal03) resampled to 20mm cubic voxels."
   ]
  },
  {
   "cell_type": "code",
   "execution_count": null,
   "metadata": {
    "collapsed": true
   },
   "outputs": [],
   "source": [
    "model = se.load('example_model')"
   ]
  },
  {
   "cell_type": "markdown",
   "metadata": {},
   "source": [
    "other model options:\n",
    "- `pyFR_k10r20_6mm`: correlation model trained on the pyFR dataset and resampled to 6mm cubic voxels\n",
    "\n",
    "- `pyFR_k10r20_20mm`: full name of `example_model` (either string will load the same model)\n"
   ]
  },
  {
   "cell_type": "markdown",
   "metadata": {},
   "source": [
    "# Initialize model objects\n",
    "\n",
    "Model objects can be initialized by passing any of the following to the `Model` class instance initializer:\n",
    "- a path to an existing saved model object (ending in `.mo`)\n",
    "- an existing model object (this makes a copy of the existing model object)\n",
    "- a `Brain` object or `Nifti` object \\[or paths to saved `Brain` objects (.bo) or `Nifti` objects (.nii)\\]\n",
    "- a string corresponding to any of the [built-in example files](http://supereeg.readthedocs.io/en/latest/supereeg.load.html#supereeg.load), of any format (any datatype may be converted to a `Model` object)\n",
    "\n",
    "In addition, new model objects may be created via the `load` function (which loads any of the toolbox-supported data types) and specifying `return_type='mo'`"
   ]
  },
  {
   "cell_type": "code",
   "execution_count": null,
   "metadata": {},
   "outputs": [],
   "source": [
    "nii_mo = se.Model('example_nifti')"
   ]
  },
  {
   "cell_type": "markdown",
   "metadata": {},
   "source": [
    "Or:"
   ]
  },
  {
   "cell_type": "code",
   "execution_count": null,
   "metadata": {},
   "outputs": [],
   "source": [
    "nii_mo = se.load('example_nifti', return_type='mo')"
   ]
  },
  {
   "cell_type": "markdown",
   "metadata": {},
   "source": [
    "# Model object methods\n",
    "\n",
    "There are a few other useful methods on a model object:"
   ]
  },
  {
   "cell_type": "markdown",
   "metadata": {},
   "source": [
    "## `mo.info()`\n",
    "\n",
    "This method will give you a summary of the model object:"
   ]
  },
  {
   "cell_type": "code",
   "execution_count": null,
   "metadata": {},
   "outputs": [],
   "source": [
    "model.info()"
   ]
  },
  {
   "cell_type": "markdown",
   "metadata": {},
   "source": [
    "## `mo.plot_data()`\n",
    "\n",
    "This method will plot your model.  \n",
    "\n",
    "The model is comprised of a number of fields.  The most important are the `model.numerator` and `model.denominator`.  Dividing these two fields gives a matrix of z-values, where the value in each cell represents the covariance between every model brain location with every other model brain location. To view the model, simply call the `model.plot` method.  This method wraps `seaborn.heatmap` to plot the model (transformed from z to r), so any arguments that `seaborn.heatmap` accepts are supported by `model.plot`."
   ]
  },
  {
   "cell_type": "code",
   "execution_count": null,
   "metadata": {},
   "outputs": [],
   "source": [
    "model.plot_data(xticklabels=False, yticklabels=False)"
   ]
  },
  {
   "cell_type": "markdown",
   "metadata": {},
   "source": [
    "## `mo.plot_locs()`\n",
    "\n",
    "This method will plot the locations in your model.  "
   ]
  },
  {
   "cell_type": "code",
   "execution_count": null,
   "metadata": {},
   "outputs": [],
   "source": [
    "model.plot_locs()"
   ]
  },
  {
   "cell_type": "markdown",
   "metadata": {},
   "source": [
    "## `mo.update()`\n",
    "\n",
    "This method allows you to update the model with addition subject data. \n",
    "\n",
    "To do this, we can use the `update` method, passing a new subjects data as a brain object. First, let's load in an example subjects data:"
   ]
  },
  {
   "cell_type": "code",
   "execution_count": null,
   "metadata": {},
   "outputs": [],
   "source": [
    "bo = se.load('example_data')\n",
    "bo.info()"
   ]
  },
  {
   "cell_type": "markdown",
   "metadata": {},
   "source": [
    "Now you can update the model with that brain object.  This can be done either in place using `inplace = True`, or you can save a new updated model: "
   ]
  },
  {
   "cell_type": "code",
   "execution_count": null,
   "metadata": {},
   "outputs": [],
   "source": [
    "updated_model = model.update(bo, inplace=False)\n",
    "updated_model.info()"
   ]
  },
  {
   "cell_type": "markdown",
   "metadata": {},
   "source": [
    "Note that the model is now comprised of 67 subjects, instead of 66 before we updated it."
   ]
  },
  {
   "cell_type": "markdown",
   "metadata": {},
   "source": [
    "## `mo.get_model()`\n",
    "\n",
    "This method returns the model in the form of a correlation matrix. "
   ]
  },
  {
   "cell_type": "code",
   "execution_count": null,
   "metadata": {},
   "outputs": [],
   "source": [
    "updated_model.get_model()"
   ]
  },
  {
   "cell_type": "markdown",
   "metadata": {},
   "source": [
    "## `mo.save(fname='something')`\n",
    "This method will save the brain object to the specified file location.\n",
    "The data will be saved as a 'bo' file, which is a dictionary containing the elements of a brain object saved in the hd5 format using `deepdish`."
   ]
  },
  {
   "cell_type": "code",
   "execution_count": null,
   "metadata": {
    "collapsed": true
   },
   "outputs": [],
   "source": [
    "#mo.save(fname='model_object')"
   ]
  },
  {
   "cell_type": "markdown",
   "metadata": {},
   "source": [
    "## Creating a new model\n",
    "\n",
    "In addition to including a few pre-made models in the `supereeg` package, we also provide a way to construct a model from scratch. \n",
    "\n",
    "### Created from a list of brain objects:\n",
    "For example, if you have an ECoG dataset, we provide a way to construct a model that will predict whole brain activity.  The more subjects you include in the model, the better it will be! To create a model, first you'll need to format your subject data into brain objects.  For the purpose of demonstration, and to highlight the \"simulation\" features of the toolbox, we will generate a synthetic ECoG dataset.  Specifically, we'll simulate data from 100 locations from each of 10 subjects and construct the model from that data:"
   ]
  },
  {
   "cell_type": "code",
   "execution_count": null,
   "metadata": {},
   "outputs": [],
   "source": [
    "# simulate 100 locations\n",
    "locs = se.simulate_locations(100)\n",
    "\n",
    "# simulate 10 brain objects to create a model\n",
    "n_subs = 10\n",
    "model_bos = [se.simulate_model_bos(n_samples=1000, sample_rate=1000, sample_locs=20, \n",
    "                                   locs=locs, cov='toeplitz') for x in range(n_subs)]\n",
    "\n",
    "model_bos[0].info()"
   ]
  },
  {
   "cell_type": "markdown",
   "metadata": {},
   "source": [
    "As you can see above, each simulated subject has 10 (randomly placed) 'electrodes,' with 1 second of data each. To construct a model from these brain objects, simply pass them to the `se.Model` class, and a new model will be generated:"
   ]
  },
  {
   "cell_type": "code",
   "execution_count": null,
   "metadata": {},
   "outputs": [],
   "source": [
    "new_model = se.Model(data=model_bos, locs=locs)\n",
    "new_model.info()"
   ]
  },
  {
   "cell_type": "markdown",
   "metadata": {},
   "source": [
    "### Created by adding to model object fields:\n",
    "\n",
    "Another option is to add a model directly. \n",
    "\n",
    "You can add your model to `model.data` and add the corresponding locations for the model in the field `locs`. \n",
    "\n",
    "Another option, allows you to add your model to `model.numerator`, which comprises the sum of the z-scored correlation matrices over subjects. The `model.denominator` field comprises the sum of the number of subjects contributing to each matrix cell in the `model.numerator` field. You can add the locations for the model in the field `locs` and the number of subjects to `n_subs`. \n",
    "\n",
    "In this next example, we're constructing the model from a toeplitz matrix with 10 subjects using 100 simulated locations. We created the matrix using the function, `se.create_cov` and added it to the `model.data` field.  \n",
    "\n",
    "You can also create a custom covariance matrix in `se.create_cov` by simply passing numpy array as and that is number of locations by number of locations to `cov` and the number of location to `n_elecs`.  "
   ]
  },
  {
   "cell_type": "code",
   "execution_count": 1,
   "metadata": {
    "scrolled": true
   },
   "outputs": [
    {
     "ename": "NameError",
     "evalue": "name 'se' is not defined",
     "output_type": "error",
     "traceback": [
      "\u001b[0;31m---------------------------------------------------------------------------\u001b[0m",
      "\u001b[0;31mNameError\u001b[0m                                 Traceback (most recent call last)",
      "\u001b[0;32m<ipython-input-1-af1103623598>\u001b[0m in \u001b[0;36m<module>\u001b[0;34m()\u001b[0m\n\u001b[0;32m----> 1\u001b[0;31m \u001b[0mR\u001b[0m \u001b[0;34m=\u001b[0m \u001b[0mse\u001b[0m\u001b[0;34m.\u001b[0m\u001b[0mcreate_cov\u001b[0m\u001b[0;34m(\u001b[0m\u001b[0mcov\u001b[0m\u001b[0;34m=\u001b[0m\u001b[0;34m'toeplitz'\u001b[0m\u001b[0;34m,\u001b[0m \u001b[0mn_elecs\u001b[0m\u001b[0;34m=\u001b[0m\u001b[0mlen\u001b[0m\u001b[0;34m(\u001b[0m\u001b[0mlocs\u001b[0m\u001b[0;34m)\u001b[0m\u001b[0;34m)\u001b[0m\u001b[0;34m\u001b[0m\u001b[0m\n\u001b[0m\u001b[1;32m      2\u001b[0m \u001b[0mp\u001b[0m \u001b[0;34m=\u001b[0m \u001b[0;36m10\u001b[0m\u001b[0;34m\u001b[0m\u001b[0m\n\u001b[1;32m      3\u001b[0m \u001b[0mtoe_model\u001b[0m \u001b[0;34m=\u001b[0m \u001b[0mse\u001b[0m\u001b[0;34m.\u001b[0m\u001b[0mModel\u001b[0m\u001b[0;34m(\u001b[0m\u001b[0mdata\u001b[0m\u001b[0;34m=\u001b[0m\u001b[0mR\u001b[0m\u001b[0;34m,\u001b[0m \u001b[0mlocs\u001b[0m\u001b[0;34m=\u001b[0m\u001b[0mlocs\u001b[0m\u001b[0;34m,\u001b[0m \u001b[0mn_subs\u001b[0m\u001b[0;34m=\u001b[0m\u001b[0mp\u001b[0m\u001b[0;34m)\u001b[0m\u001b[0;34m\u001b[0m\u001b[0m\n\u001b[1;32m      4\u001b[0m \u001b[0mtoe_model\u001b[0m\u001b[0;34m.\u001b[0m\u001b[0mplot_data\u001b[0m\u001b[0;34m(\u001b[0m\u001b[0mxticklabels\u001b[0m\u001b[0;34m=\u001b[0m\u001b[0mFalse\u001b[0m\u001b[0;34m,\u001b[0m \u001b[0myticklabels\u001b[0m\u001b[0;34m=\u001b[0m\u001b[0mFalse\u001b[0m\u001b[0;34m)\u001b[0m\u001b[0;34m\u001b[0m\u001b[0m\n",
      "\u001b[0;31mNameError\u001b[0m: name 'se' is not defined"
     ]
    }
   ],
   "source": [
    "R = se.create_cov(cov='toeplitz', n_elecs=len(locs))\n",
    "p = 10\n",
    "toe_model = se.Model(data=R, locs=locs, n_subs=p)\n",
    "toe_model.plot_data(xticklabels=False, yticklabels=False)"
   ]
  },
  {
   "cell_type": "markdown",
   "metadata": {},
   "source": [
    "In this example we simulated 100 MNI locations. However coordinates can also be derived by specifiying a `template` nifti file. "
   ]
  },
  {
   "cell_type": "code",
   "execution_count": null,
   "metadata": {
    "collapsed": true
   },
   "outputs": [],
   "source": [
    "# new_model = se.Model(bos, template='/your/custom/MNI_template.nii')"
   ]
  },
  {
   "cell_type": "markdown",
   "metadata": {},
   "source": [
    "## Predicting whole brain activity\n",
    "\n",
    "## `mo.predict()`\n",
    "\n",
    "Now for the magic. `supereeg` uses **_gaussian process regression_** to infer whole brain activity given a smaller sampling of electrode recordings. To predict activity, simply call the `predict` method of a model and pass the subjects brain activity that you'd like to reconstruct:"
   ]
  },
  {
   "cell_type": "markdown",
   "metadata": {},
   "source": [
    "## `mo.predict(nearest_neighbor=True)`\n",
    "As default, the nearest voxel for each subject's electrode location is found and used as revised electrodes location matrix in the prediction. If `nearest_neighbor` is set to `False`, the original locations are used in the prediction.  "
   ]
  },
  {
   "cell_type": "markdown",
   "metadata": {},
   "source": [
    "## `mo.predict(force_update=False)`\n",
    "As default, the model is not updated with the subject's correlation matrix.  By setting `force_update` to `True`, you will update the model with the subject's correlation matrix.  "
   ]
  },
  {
   "cell_type": "code",
   "execution_count": null,
   "metadata": {},
   "outputs": [],
   "source": [
    "# plot a slice of the original data\n",
    "print('BEFORE')\n",
    "print('------')\n",
    "bo.info()\n",
    "nii = bo.to_nii(template='gray', vox_size=20)\n",
    "nii.plot_glass_brain()\n",
    "\n",
    "# voodoo magic\n",
    "bor = model.predict(bo, nearest_neighbor=False, force_update=True)\n",
    "\n",
    "\n",
    "# plot a slice of the whole brain data\n",
    "print('AFTER')\n",
    "print('------')\n",
    "bor.info()\n",
    "nii = bor.to_nii(template='gray', vox_size=20)\n",
    "nii.plot_glass_brain()"
   ]
  },
  {
   "cell_type": "markdown",
   "metadata": {},
   "source": [
    "Using the `supereeg` algorithm, we've 'reconstructed' whole brain activity from a smaller sample of electrodes. "
   ]
  },
  {
   "cell_type": "markdown",
   "metadata": {
    "collapsed": true
   },
   "source": [
    "You can plot locations of the new brain object with predicted activity.  Observed locations are in black and predicted locations are in red.  "
   ]
  },
  {
   "cell_type": "code",
   "execution_count": null,
   "metadata": {},
   "outputs": [],
   "source": [
    "bor.plot_locs()"
   ]
  }
 ],
 "metadata": {
  "kernelspec": {
   "display_name": "Python 2",
   "language": "python",
   "name": "python2"
  },
  "language_info": {
   "codemirror_mode": {
    "name": "ipython",
    "version": 2
   },
   "file_extension": ".py",
   "mimetype": "text/x-python",
   "name": "python",
   "nbconvert_exporter": "python",
   "pygments_lexer": "ipython2",
   "version": "2.7.11"
  }
 },
 "nbformat": 4,
 "nbformat_minor": 2
}
