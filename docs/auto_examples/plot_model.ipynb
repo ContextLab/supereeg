{
  "nbformat_minor": 0, 
  "nbformat": 4, 
  "cells": [
    {
      "execution_count": null, 
      "cell_type": "code", 
      "source": [
        "%matplotlib inline"
      ], 
      "outputs": [], 
      "metadata": {
        "collapsed": false
      }
    }, 
    {
      "source": [
        "\n# Load and plot a model\n\n\nHere we load the example model, and then plot it along with the locations.\n\n\n"
      ], 
      "cell_type": "markdown", 
      "metadata": {}
    }, 
    {
      "execution_count": null, 
      "cell_type": "code", 
      "source": [
        "# Code source: Lucy Owen & Andrew Heusser\n# License: MIT\n\nimport supereeg as se\nimport numpy as np\n\n# load example model\nmodel = se.load('example_model')\n\n# loading older models\nnum = se.load('example_model', field='numerator')\ndenom = se.load('example_model', field='denominator')\nlocs = se.load('example_model', field='locs')\nn_subs = se.load('example_model', field='n_subs')\n\n# create new model from old data\nnew_model = se.Model(data=np.divide(num, denom), locs=locs, n_subs=n_subs)\n\n# these should be the same\nassert np.allclose(new_model.get_model(), model.get_model())\n\n# plot it\nmodel.plot_data(xticklabels=False, yticklabels=False)\n\n# plot locations\nmodel.plot_locs()"
      ], 
      "outputs": [], 
      "metadata": {
        "collapsed": false
      }
    }
  ], 
  "metadata": {
    "kernelspec": {
      "display_name": "Python 2", 
      "name": "python2", 
      "language": "python"
    }, 
    "language_info": {
      "mimetype": "text/x-python", 
      "nbconvert_exporter": "python", 
      "name": "python", 
      "file_extension": ".py", 
      "version": "2.7.10", 
      "pygments_lexer": "ipython2", 
      "codemirror_mode": {
        "version": 2, 
        "name": "ipython"
      }
    }
  }
}