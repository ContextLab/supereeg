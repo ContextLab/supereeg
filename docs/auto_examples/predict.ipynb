{
  "nbformat_minor": 0, 
  "nbformat": 4, 
  "cells": [
    {
      "execution_count": null, 
      "cell_type": "code", 
      "source": [
        "%matplotlib inline"
      ], 
      "outputs": [], 
      "metadata": {
        "collapsed": false
      }
    }, 
    {
      "source": [
        "\n# Predict unknown location\n\n\nIn this example, we load in a single subject example, remove electrodes that exceed\na kurtosis threshold (in place), load a model, and predict activity at all\nmodel locations.\n\n\n"
      ], 
      "cell_type": "markdown", 
      "metadata": {}
    }, 
    {
      "execution_count": null, 
      "cell_type": "code", 
      "source": [
        "# Code source: Andrew Heusser & Lucy Owen\n# License: MIT\n\nimport superEEG as se\n\n\n# load example data\nbo = se.load('example_data')\n\n# load example model\nmodel = se.load('example_model')\n\n# the default will replace the electrode location with the nearest voxel and reconstruct at all other locations\nreconstructed_bo = model.predict(bo)\n\n# but pasing nearest_neighbor=False will fill in the missing timeseries data using the original set of locations\nreconstructed_bo_no_nn = model.predict(bo, nearest_neighbor = False)\n\n# you can also set your match threshold to a specific value\n# this will match electrode to voxel if within 40 mms\nreconstructed_bo_nn_40 = model.predict(bo, nearest_neighbor = True, match_threshold=40)\n\n# another default is force_update=False.  if set to True, the model will update with the subject covariance matrix\nreconstructed_bo_fu = model.predict(bo, nearest_neighbor = False, force_update=True)\n\n# print out info on new brain object\nreconstructed_bo.info()\n\n# you can also see which locations were observed and which were predicted\nreconstructed_bo.label()\n\n# save as nifti\nreconstructed_nifti = reconstructed_bo.to_nii()"
      ], 
      "outputs": [], 
      "metadata": {
        "collapsed": false
      }
    }
  ], 
  "metadata": {
    "kernelspec": {
      "display_name": "Python 2", 
      "name": "python2", 
      "language": "python"
    }, 
    "language_info": {
      "mimetype": "text/x-python", 
      "nbconvert_exporter": "python", 
      "name": "python", 
      "file_extension": ".py", 
      "version": "2.7.10", 
      "pygments_lexer": "ipython2", 
      "codemirror_mode": {
        "version": 2, 
        "name": "ipython"
      }
    }
  }
}