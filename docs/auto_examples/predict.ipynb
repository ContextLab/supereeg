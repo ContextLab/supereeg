{
  "nbformat_minor": 0, 
  "nbformat": 4, 
  "cells": [
    {
      "execution_count": null, 
      "cell_type": "code", 
      "source": [
        "%matplotlib inline"
      ], 
      "outputs": [], 
      "metadata": {
        "collapsed": false
      }
    }, 
    {
      "source": [
        "\n# Predict unknown location\n\n\nIn this example, we load in a single subject example, remove electrodes that\nexceed a kurtosis threshold, load a model, and predict activity at all\nmodel locations.  We then convert the reconstruction to a nifti.\n\n\n"
      ], 
      "cell_type": "markdown", 
      "metadata": {}
    }, 
    {
      "execution_count": null, 
      "cell_type": "code", 
      "source": [
        "# Code source: Lucy Owen & Andrew Heusser\n# License: MIT\n\nimport supereeg as se\n\n\n# load example data\nbo = se.load('example_data')\n\n# load example model\nmodel = se.load('example_model')\n\nbo.get_zscore_data()\n\n# the default will replace the electrode location with the nearest voxel and reconstruct at all other locations\nreconstructed_bo = model.predict(bo)\n\n# print out info on new brain object\nreconstructed_bo.info()\n\n# save as nifti\nreconstructed_nifti = reconstructed_bo.to_nii()"
      ], 
      "outputs": [], 
      "metadata": {
        "collapsed": false
      }
    }
  ], 
  "metadata": {
    "kernelspec": {
      "display_name": "Python 2", 
      "name": "python2", 
      "language": "python"
    }, 
    "language_info": {
      "mimetype": "text/x-python", 
      "nbconvert_exporter": "python", 
      "name": "python", 
      "file_extension": ".py", 
      "version": "2.7.10", 
      "pygments_lexer": "ipython2", 
      "codemirror_mode": {
        "version": 2, 
        "name": "ipython"
      }
    }
  }
}