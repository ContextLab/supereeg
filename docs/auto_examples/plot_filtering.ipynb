{
  "nbformat_minor": 0, 
  "nbformat": 4, 
  "cells": [
    {
      "execution_count": null, 
      "cell_type": "code", 
      "source": [
        "%matplotlib inline"
      ], 
      "outputs": [], 
      "metadata": {
        "collapsed": false
      }
    }, 
    {
      "source": [
        "\n# Filtering electrodes\n\n\nThis example filters electrodes based on kurtosis thresholding (default=10).\n\n\n"
      ], 
      "cell_type": "markdown", 
      "metadata": {}
    }, 
    {
      "execution_count": null, 
      "cell_type": "code", 
      "source": [
        "# Code source: Lucy Owen & Andrew Heusser\n# License: MIT\n\n# import\nimport supereeg as se\n\n# load example data\nbo = se.load('example_filter')\n\n# plot filtered data as default\nbo.plot_data()\n\n# plot filtered locations as default\nbo.plot_locs()\n\n# 37 locations\nbo.info()\n\n# or you can set filter to None if you want to plot original data\nbo.filter = None\n\n# plot unfiltered data\nbo.plot_data()\n\n# plot unfiltered locations\nbo.plot_locs()\n\n# 40 locations\nbo.info()"
      ], 
      "outputs": [], 
      "metadata": {
        "collapsed": false
      }
    }
  ], 
  "metadata": {
    "kernelspec": {
      "display_name": "Python 2", 
      "name": "python2", 
      "language": "python"
    }, 
    "language_info": {
      "mimetype": "text/x-python", 
      "nbconvert_exporter": "python", 
      "name": "python", 
      "file_extension": ".py", 
      "version": "2.7.10", 
      "pygments_lexer": "ipython2", 
      "codemirror_mode": {
        "version": 2, 
        "name": "ipython"
      }
    }
  }
}