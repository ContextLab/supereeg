{
  "nbformat_minor": 0, 
  "nbformat": 4, 
  "cells": [
    {
      "execution_count": null, 
      "cell_type": "code", 
      "source": [
        "%matplotlib inline"
      ], 
      "outputs": [], 
      "metadata": {
        "collapsed": false
      }
    }, 
    {
      "source": [
        "\n# Filtering electrodes\n\n\nThis example filters electrodes based on kurtosis thresholding (default=10).\n\n\n"
      ], 
      "cell_type": "markdown", 
      "metadata": {}
    }, 
    {
      "execution_count": null, 
      "cell_type": "code", 
      "source": [
        "# Code source: Lucy Owen & Andrew Heusser\n# License: MIT\n\n# import\nimport supereeg as se\n\n# load example data\nbo = se.load('example_filter')\n\n# to get kurtosis values\nkurtosis_vals = bo.kurtosis\n\n# 40 locations before filtering\nbo.get_locs()\n\n# but filtered=False will show all electrodes\nbo.plot_data(filtered=False)\n\n# filter elecs, default measure='kurtosis' and threshold=10\nf_bo = se.filter_elecs(bo)\n\n# 37 locations after filtering\nf_bo.get_locs()\n\n# plot data will filter in place\nbo.plot_data()"
      ], 
      "outputs": [], 
      "metadata": {
        "collapsed": false
      }
    }
  ], 
  "metadata": {
    "kernelspec": {
      "display_name": "Python 2", 
      "name": "python2", 
      "language": "python"
    }, 
    "language_info": {
      "mimetype": "text/x-python", 
      "nbconvert_exporter": "python", 
      "name": "python", 
      "file_extension": ".py", 
      "version": "2.7.10", 
      "pygments_lexer": "ipython2", 
      "codemirror_mode": {
        "version": 2, 
        "name": "ipython"
      }
    }
  }
}