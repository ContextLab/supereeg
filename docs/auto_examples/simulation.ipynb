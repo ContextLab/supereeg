{
  "nbformat_minor": 0, 
  "nbformat": 4, 
  "cells": [
    {
      "execution_count": null, 
      "cell_type": "code", 
      "source": [
        "%matplotlib inline"
      ], 
      "outputs": [], 
      "metadata": {
        "collapsed": false
      }
    }, 
    {
      "source": [
        "\n# Simulate data\n\n\nIn this example, we demonstrate the simulate functions.\nFirst, we'll load in some example locations. We simulate\n10 brain objects using a subset of locations and the correlational structure\n(a toeplitz matrix) to create the model. We then update that model with\none simulated brain object, also create from a subset of locations and the\ncorrelational structure (a toeplitz matrix). Finally, we update the model with\n10 more brain objects following the same simulation procedure above.\n\n\n"
      ], 
      "cell_type": "markdown", 
      "metadata": {}
    }, 
    {
      "execution_count": null, 
      "cell_type": "code", 
      "source": [
        "# Code source: Andrew Heusser & Lucy Owen\n# License: MIT\n\nimport superEEG as se\nimport os\nimport sys\nimport ast\nimport pandas as pd\nimport numpy as np\nimport pickle\nimport seaborn as sns\nfrom superEEG._helpers.stats import r2z, z2r, corr_column\nimport matplotlib.pyplot as plt\n#plt.switch_backend('agg')\n\n\n# n_samples\nn_samples = 1000\n\n# n_electrodes - number of electrodes for reconstructed patient - need to loop over 5:5:130\nn_elecs = range(5, 165, 50)\n\n# m_patients - number of patients in the model - need to loop over 10:10:50\nm_patients = [5, 10]\n\n# m_electrodes - number of electrodes for each patient in the model -  25:25:100\nm_elecs = range(5, 165, 50)\n\niter_val = 1\n\n# load nifti to get locations\ngray = se.load('mini_model')\n\n# extract locations\ngray_locs = gray.locs\n\n\nappend_d = pd.DataFrame()\n\nparam_grid = [(p,m,n) for p in m_patients for m in m_elecs for n in n_elecs]\n\nfor p, m, n in param_grid:\n    d = []\n\n    for i in range(iter_val):\n\n\n        #create brain objects with m_patients and loop over the number of model locations and subset locations to build model\n        model_bos = [se.simulate_model_bos(n_samples=10000, sample_rate=1000, locs=gray_locs, sample_locs = m) for x in range(p)]\n\n        model_locs = pd.DataFrame()\n        for i in range(len(model_bos)):\n            model_locs = model_locs.append(model_bos[i].locs, ignore_index = True)\n\n        # create model from subsampled gray locations\n        model = se.Model(model_bos, locs=gray_locs)\n\n        # brain object locations subsetted entirely from both model and gray locations - for this n > m (this isn't necessarily true, but this ensures overlap)\n        sub_locs = gray_locs.sample(n).sort_values(['x', 'y', 'z'])\n\n        # simulate brain object\n        bo = se.simulate_bo(n_samples=1000, sample_rate=1000, locs=gray_locs)\n\n        # parse brain object to create synthetic patient data\n        data = bo.data.iloc[:, sub_locs.index]\n\n        # create synthetic patient (will compare remaining activations to predictions)\n        bo_sample = se.Brain(data=data.as_matrix(), locs=sub_locs)\n\n        # reconstruct at 'unknown' locations\n        recon = model.predict(bo_sample)\n\n        # sample actual data at reconstructed locations\n        actual = bo.data.iloc[:, recon.locs.index]\n\n        # correlate reconstruction with actual data\n        corr_vals = corr_column(actual.as_matrix(),recon.data.as_matrix())\n\n        # since the numbers of reconstructed locations change, sample the same number to take mean\n        corr_vals_sample = np.random.choice(corr_vals, 5)\n\n        d.append({'Numbder of Patients in Model': p, 'Number of Model Locations': m, 'Number of Patient Locations': n, 'Average Correlation': corr_vals_sample.mean(), 'Correlations': corr_vals, 'Model Locations': model_locs.values, 'Patient Locations': bo_sample.locs.values})\n\n    d = pd.DataFrame(d, columns = ['Numbder of Patients in Model', 'Number of Model Locations', 'Number of Patient Locations', 'Average Correlation', 'Correlations', 'Model Locations', 'Patient Locations'])\n    append_d = append_d.append(d)\n    append_d.index.rename('Iteration', inplace=True)\n\n\nnew_df=append_d.groupby('Average Correlation').mean()\n\n\nif len(np.unique(new_df['Numbder of Patients in Model'])) > 1:\n\n    fig, axs = plt.subplots(ncols=len(np.unique(new_df['Numbder of Patients in Model'])), sharex=True, sharey=True)\n\n    axs_iter = 0\n    cbar_ax = fig.add_axes([.92, .3, .03, .4])\n    for i in np.unique(new_df['Numbder of Patients in Model']):\n\n\n        data_plot = append_d[append_d['Numbder of Patients in Model'] == i].pivot_table(index=['Number of Model Locations'], columns='Number of Patient Locations',\n                                                              values='Average Correlation')\n        axs[axs_iter].set_title('Patients = '+ str(i))\n        sns.heatmap(data_plot, cmap=\"coolwarm\", cbar = axs_iter == 0, ax = axs[axs_iter], cbar_ax = None if axs_iter else cbar_ax)\n        axs[axs_iter].invert_yaxis()\n        axs_iter+=1\n\nelse:\n    for i in np.unique(new_df['Numbder of Patients in Model']):\n        data_plot = append_d[append_d['Numbder of Patients in Model'] == i].pivot_table(\n            index=['Number of Model Locations'], columns='Number of Patient Locations',\n            values='Average Correlation')\n        ax = sns.heatmap(data_plot, cmap=\"coolwarm\", vmin=-1, vmax=1)\n        ax.invert_yaxis()\n        ax.set(xlabel='Number of electrodes from to-be-reconstructed patient', ylabel=' Number of electrodes from patients used to construct model')\n\nplt.show()\n#plt.savefig('average_correlation_heatmap.pdf')"
      ], 
      "outputs": [], 
      "metadata": {
        "collapsed": false
      }
    }
  ], 
  "metadata": {
    "kernelspec": {
      "display_name": "Python 2", 
      "name": "python2", 
      "language": "python"
    }, 
    "language_info": {
      "mimetype": "text/x-python", 
      "nbconvert_exporter": "python", 
      "name": "python", 
      "file_extension": ".py", 
      "version": "2.7.10", 
      "pygments_lexer": "ipython2", 
      "codemirror_mode": {
        "version": 2, 
        "name": "ipython"
      }
    }
  }
}