{
  "nbformat_minor": 0, 
  "nbformat": 4, 
  "cells": [
    {
      "execution_count": null, 
      "cell_type": "code", 
      "source": [
        "%matplotlib inline"
      ], 
      "outputs": [], 
      "metadata": {
        "collapsed": false
      }
    }, 
    {
      "source": [
        "\n# Explore model add and subtract\n\n\nIn this example, we show you how to add and subtract models.\n\n\n"
      ], 
      "cell_type": "markdown", 
      "metadata": {}
    }, 
    {
      "execution_count": null, 
      "cell_type": "code", 
      "source": [
        "# Code source: Lucy Owen & Andrew Heusser\n# License: MIT\nimport supereeg as se\nimport numpy as np\n\n# some example locations\nlocs = np.array([[-61., -77.,  -3.],\n                 [-41., -77., -23.],\n                 [-21., -97.,  17.],\n                 [-21., -37.,  77.],\n                 [-21.,  63.,  -3.],\n                 [ -1., -37.,  37.],\n                 [ -1.,  23.,  17.],\n                 [ 19., -57., -23.],\n                 [ 19.,  23.,  -3.],\n                 [ 39., -57.,  17.],\n                 [ 39.,   3.,  37.],\n                 [ 59., -17.,  17.]])\n\n\n# number of timeseries samples\nn_samples = 10\n# number of subjects\nn_subs = 6\n# number of electrodes\nn_elecs = 5\n# simulate some brain objects\ndata = [se.simulate_model_bos(n_samples=10, sample_rate=10, locs=locs, sample_locs = n_elecs, set_random_seed=123, noise=0) for x in range(n_subs)]\n# create a model from the first 5 brain objects and another from 1 brain object\nmo1 = se.Model(data=data[0:5], locs=locs, n_subs=5)\nmo2 = se.Model(data=data[5:6], locs=locs, n_subs=1)\n\n# adding the models\nmo3 = mo1 + mo2\n\n# plot the added model\nmo3.plot_data()\n# adding these models is the same as making a model from all 6 brain objects at once\nmo3_alt = se.Model(data=data[0:6], locs=locs, n_subs=6)\n# plot the alternate model\nmo3_alt.plot_data()\n# show that they're the same\nassert np.allclose(mo3.get_model(), mo3_alt.get_model())\n# show that the number of subjects is also added\nassert(mo3.n_subs == mo1.n_subs + mo2.n_subs)\n\n# you can also subtract models\nmo2_sub = mo3 - mo1\n\n# plot the subtracted model\nmo2_sub.plot_data()\n# plot the original\nmo2.plot_data()\n# show that subratracting mo1 from mo3 will equal mo2\nassert np.allclose(mo2.get_model(), mo2_sub.get_model(), equal_nan=True)\n# show that the number of subjects is also subtracted\nassert(mo2_sub.n_subs == mo2.n_subs)\n# subtraction also updates the meta field, changing stable from True to False\nmo2.info()\nmo2_sub.info()\n# now that the new model is not stable, so you can't add anything to it\ntry:\n    assert mo2_sub + mo3\nexcept AssertionError:\n    assert True == True"
      ], 
      "outputs": [], 
      "metadata": {
        "collapsed": false
      }
    }
  ], 
  "metadata": {
    "kernelspec": {
      "display_name": "Python 2", 
      "name": "python2", 
      "language": "python"
    }, 
    "language_info": {
      "mimetype": "text/x-python", 
      "nbconvert_exporter": "python", 
      "name": "python", 
      "file_extension": ".py", 
      "version": "2.7.10", 
      "pygments_lexer": "ipython2", 
      "codemirror_mode": {
        "version": 2, 
        "name": "ipython"
      }
    }
  }
}