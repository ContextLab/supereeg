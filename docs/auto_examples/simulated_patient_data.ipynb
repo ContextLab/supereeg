{
  "nbformat_minor": 0, 
  "nbformat": 4, 
  "cells": [
    {
      "execution_count": null, 
      "cell_type": "code", 
      "source": [
        "%matplotlib inline"
      ], 
      "outputs": [], 
      "metadata": {
        "collapsed": false
      }
    }, 
    {
      "source": [
        "\n# Simulate data\n\n\nIn this example, we load in a single subject example, remove electrodes that exceed\na kurtosis threshold (in place), load a model, and predict activity at all\nmodel locations.\n\n\n"
      ], 
      "cell_type": "markdown", 
      "metadata": {}
    }, 
    {
      "execution_count": null, 
      "cell_type": "code", 
      "source": [
        "# Code source: Andrew Heusser & Lucy Owen\n# License: MIT\n\nimport superEEG as se\nimport scipy\nimport numpy as np\nfrom superEEG._helpers.stats import r2z, z2r\nfrom superEEG._helpers.bookkeeping import slice_list\nfrom numpy import inf\nfrom scipy.stats import zscore\nimport os\nimport pandas as pd\nimport pickle\n\n# n_samples\nn_samples = 1000\n\n# load example model to get locations\nwith open(os.path.dirname(os.path.abspath(__file__)) + '/../superEEG/data/R_small_MNI.npy', 'rb') as handle:\n    locs = np.load(handle)\n\n# # get the locations\n#\n# R = scipy.linalg.toeplitz(np.linspace(0,1,len(locs))[::-1])\n#\n# count = 0\n# patient_inds = slice_list(range(0, len(locs)), 13)\n# for p in patient_inds:\n#\n#     count += 1\n#     rand_dist = np.random.multivariate_normal(np.zeros(len(locs)), np.eye(len(locs)), size=n_samples)\n#     bo = se.Brain(data=np.dot(rand_dist, scipy.linalg.cholesky(R))[:,p], locs=pd.DataFrame(locs[p,:], columns=['x', 'y', 'z']))\n#\n#     bo.to_pickle(os.path.dirname(os.path.abspath(__file__)) + '/../superEEG/data/synthetic_' + str(count))\n# data = []\n# for i in range(1,14):\n#     with open(os.path.dirname(os.path.abspath(__file__)) + '/../superEEG/data/synthetic_' +str(i) + '.bo', 'rb') as handle:\n#         data.append(pickle.load(handle))\n\n\n## create model with synthetic patient data, random sample 20 electrodes\n\nR = scipy.linalg.toeplitz(np.linspace(0,1,len(locs))[::-1])\ndata = []\nfor i in range(50):\n\n    p = np.random.choice(range(len(locs)), 20, replace=False)\n\n    rand_dist = np.random.multivariate_normal(np.zeros(len(locs)), np.eye(len(locs)), size=n_samples)\n    data.append(se.Brain(data=np.dot(rand_dist, scipy.linalg.cholesky(R))[:,p], locs=pd.DataFrame(locs[p,:], columns=['x', 'y', 'z'])))\n\n    #bo.to_pickle(os.path.dirname(os.path.abspath(__file__)) + '/../superEEG/data/synthetic_' + str(i))\nmodel = se.Model(data=data, locs=locs)\n\n## create brain object to be reconstructed\n## find indices\nlocs_inds = range(0,len(locs))\nsub_inds = np.sort(np.random.choice(range(len(locs)), 20, replace=False))\nunknown_inds = list(set(locs_inds)-set(sub_inds))\n\nrand_dist = np.random.multivariate_normal(np.zeros(len(locs)), np.eye(len(locs)), size=n_samples)\nfull_data = np.dot(rand_dist, scipy.linalg.cholesky(R))\nbo_sub = se.Brain(data=full_data[:, sub_inds], locs=pd.DataFrame(locs[sub_inds, :], columns=['x', 'y', 'z']))\nbo_actual = se.Brain(data=full_data, locs=pd.DataFrame(locs, columns=['x', 'y', 'z']))\n\n## need to figure out if we want to keep the activty used to predict - right now its added at the end, but that might not be the best\nreconstructed = model.predict(bo_sub)\n\nimport seaborn as sb\nsb.jointplot(reconstructed.data, bo_actual.data)"
      ], 
      "outputs": [], 
      "metadata": {
        "collapsed": false
      }
    }
  ], 
  "metadata": {
    "kernelspec": {
      "display_name": "Python 2", 
      "name": "python2", 
      "language": "python"
    }, 
    "language_info": {
      "mimetype": "text/x-python", 
      "nbconvert_exporter": "python", 
      "name": "python", 
      "file_extension": ".py", 
      "version": "2.7.11", 
      "pygments_lexer": "ipython2", 
      "codemirror_mode": {
        "version": 2, 
        "name": "ipython"
      }
    }
  }
}