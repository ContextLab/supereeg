{
  "nbformat_minor": 0, 
  "nbformat": 4, 
  "cells": [
    {
      "execution_count": null, 
      "cell_type": "code", 
      "source": [
        "%matplotlib inline"
      ], 
      "outputs": [], 
      "metadata": {
        "collapsed": false
      }
    }, 
    {
      "source": [
        "\n# Simulating a brain object\n\n\nIn this example, we demonstrate the simulate_bo function.\nFirst, we'll load in some example locations. Then we'll simulate 1\nbrain object specifying a noise parameter and the correlational structure\nof the data (a toeplitz matrix). We'll then subsample 10 locations from the\noriginal brain object.\n\n\n"
      ], 
      "cell_type": "markdown", 
      "metadata": {}
    }, 
    {
      "execution_count": null, 
      "cell_type": "code", 
      "source": [
        "# Code source: Lucy Owen & Andrew Heusser\n# License: MIT\n\nimport supereeg as se\nfrom supereeg.helpers import _corr_column\nimport numpy as np\n\n# simulate 100 locations\nlocs = se.simulate_locations(n_elecs=100)\n\n# simulate brain object\nbo = se.simulate_bo(n_samples=1000, sample_rate=100, cov='random', locs=locs, noise =.1)\n\n# sample 10 locations, and get indices\nsub_locs = locs.sample(90, replace=False).sort_values(['x', 'y', 'z']).index.values.tolist()\n\n# index brain object to get sample patient\nbo_sample = bo[: ,sub_locs]\n\n# plot sample patient locations\nbo_sample.plot_locs()\n\n# plot sample patient data\nbo_sample.plot_data()\n\n# make model from brain object\nr_model = se.Model(data=bo, locs=locs)\n\n# predict\nbo_s = r_model.predict(bo_sample, nearest_neighbor=False)\n\n# find indices for reconstructed locations\nrecon_labels = np.where(np.array(bo_s.label) != 'observed')\n\n# find correlations between predicted and actual data\ncorrs = _corr_column(bo.get_data().values, bo_s.get_data().values)\n\n# index reconstructed correlations\ncorrs[recon_labels].mean()"
      ], 
      "outputs": [], 
      "metadata": {
        "collapsed": false
      }
    }
  ], 
  "metadata": {
    "kernelspec": {
      "display_name": "Python 2", 
      "name": "python2", 
      "language": "python"
    }, 
    "language_info": {
      "mimetype": "text/x-python", 
      "nbconvert_exporter": "python", 
      "name": "python", 
      "file_extension": ".py", 
      "version": "2.7.10", 
      "pygments_lexer": "ipython2", 
      "codemirror_mode": {
        "version": 2, 
        "name": "ipython"
      }
    }
  }
}
