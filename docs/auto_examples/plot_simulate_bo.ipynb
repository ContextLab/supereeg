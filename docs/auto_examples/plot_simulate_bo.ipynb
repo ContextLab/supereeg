{
  "nbformat_minor": 0, 
  "nbformat": 4, 
  "cells": [
    {
      "execution_count": null, 
      "cell_type": "code", 
      "source": [
        "%matplotlib inline"
      ], 
      "outputs": [], 
      "metadata": {
        "collapsed": false
      }
    }, 
    {
      "source": [
        "\n# Simulate brain object\n\n\nIn this example, we demonstrate the simulate brain object function.\nFirst, we'll load in some example locations. Then we'll simulate 1\nbrain object specifying a noise parameter and the correlational structure\n(a toeplitz matrix). We'll then subsample 10 locations from the original brain object.\n\n"
      ], 
      "cell_type": "markdown", 
      "metadata": {}
    }, 
    {
      "execution_count": null, 
      "cell_type": "code", 
      "source": [
        "# Code source: Lucy Owen & Andrew Heusser\n# License: MIT\n\nimport supereeg as se\nimport pandas as pd\n\n# load example model to get locations\nlocs = se.load('example_locations')\n\n# convert to pandas\nlocs = pd.DataFrame(locs, columns=['x', 'y', 'z'])\n\n# simulate brain object\nbo = se.simulate_bo(n_samples=100, sample_rate=1000, cov='toeplitz', locs=locs, noise =.3)\n\n# plot complete brain object\nbo.plot_locs()\n\n# brain object locations, 10 sampled\nsub_locs = locs.sample(10).sort_values(['x', 'y', 'z'])\n\n# parse brain object to create synthetic patient data\ndata = bo.data.iloc[:, sub_locs.index]\n\n# create synthetic patient\nbo_sample = se.Brain(data=data.as_matrix(), locs=sub_locs)\n\n# plot sample patient locations\nbo_sample.plot_locs()\n\n# plot sample patient data\nbo_sample.plot_data(time_min=5, time_max=10)"
      ], 
      "outputs": [], 
      "metadata": {
        "collapsed": false
      }
    }
  ], 
  "metadata": {
    "kernelspec": {
      "display_name": "Python 2", 
      "name": "python2", 
      "language": "python"
    }, 
    "language_info": {
      "mimetype": "text/x-python", 
      "nbconvert_exporter": "python", 
      "name": "python", 
      "file_extension": ".py", 
      "version": "2.7.10", 
      "pygments_lexer": "ipython2", 
      "codemirror_mode": {
        "version": 2, 
        "name": "ipython"
      }
    }
  }
}