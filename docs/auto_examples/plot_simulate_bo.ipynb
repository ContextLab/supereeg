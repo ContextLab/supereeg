{
  "nbformat_minor": 0, 
  "nbformat": 4, 
  "cells": [
    {
      "execution_count": null, 
      "cell_type": "code", 
      "source": [
        "%matplotlib inline"
      ], 
      "outputs": [], 
      "metadata": {
        "collapsed": false
      }
    }, 
    {
      "source": [
        "\n# Simulating a brain object\n\n\nIn this example, we demonstrate the simulate_bo function.\nFirst, we'll load in some example locations. Then we'll simulate 1\nbrain object specifying a noise parameter and the correlational structure\nof the data (a toeplitz matrix). We'll then subsample 10 locations from the\noriginal brain object.\n\n\n"
      ], 
      "cell_type": "markdown", 
      "metadata": {}
    }, 
    {
      "execution_count": null, 
      "cell_type": "code", 
      "source": [
        "# Code source: Lucy Owen & Andrew Heusser\n# License: MIT\n\nimport supereeg as se\n\n\n# simulate 100 locations\nlocs = se.simulate_locations(n_elecs=100)\n\n# simulate brain object\nbo = se.simulate_bo(n_samples=1000, sample_rate=1000, cov='toeplitz', locs=locs, noise =.3)\n\n# sample 10 locations, and get indices\nsub_locs = locs.sample(10).sort_values(['x', 'y', 'z']).index.values.tolist()\n\n# index brain object to get sample patient\nbo_sample = bo[: ,sub_locs]\n\n# plot sample patient locations\nbo_sample.plot_locs()\n\n# plot sample patient data\nbo_sample.plot_data()"
      ], 
      "outputs": [], 
      "metadata": {
        "collapsed": false
      }
    }
  ], 
  "metadata": {
    "kernelspec": {
      "display_name": "Python 2", 
      "name": "python2", 
      "language": "python"
    }, 
    "language_info": {
      "mimetype": "text/x-python", 
      "nbconvert_exporter": "python", 
      "name": "python", 
      "file_extension": ".py", 
      "version": "2.7.10", 
      "pygments_lexer": "ipython2", 
      "codemirror_mode": {
        "version": 2, 
        "name": "ipython"
      }
    }
  }
}