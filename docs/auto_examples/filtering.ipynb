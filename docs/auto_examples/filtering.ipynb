{
 "cells": [
  {
   "cell_type": "code",
   "execution_count": null,
   "metadata": {
    "collapsed": false
   },
   "outputs": [],
   "source": [
    "%matplotlib inline"
   ]
  },
  {
   "cell_type": "markdown",
   "metadata": {},
   "source": [
    "\n# Filtering electrodes\n\n\nThis example filters electrodes based on kurtosis thresholding.\n\n\n"
   ]
  },
  {
   "cell_type": "code",
   "execution_count": null,
   "metadata": {
    "collapsed": false
   },
   "outputs": [],
   "source": [
    "# Code source: Lucy Owen & Andrew Heusser\n",
    "# License: MIT\n",
    "\n",
    "# import\n",
    "import supereeg as se\n",
    "\n",
    "# load example data\n",
    "bo = se.load('example_filter')\n",
    "\n",
    "# to get kurtosis values\n",
    "kurt_vals = bo.kurtosis\n",
    "\n",
    "# 40 locations before filtering\n",
    "bo.get_locs()\n",
    "\n",
    "# plot data will filter by default\n",
    "bo.plot_data()\n",
    "\n",
    "# but filtered=False will show all electrodes\n",
    "bo.plot_data(filtered=False)\n",
    "\n",
    "# filter elecs, default measure='kurtosis' and threshold=10\n",
    "f_bo = se.filter_elecs(bo)\n",
    "\n",
    "# 37 locations after filtering\n",
    "f_bo.get_locs()"
   ]
  }
 ],
 "metadata": {
  "kernelspec": {
   "display_name": "Python 2",
   "name": "python2",
   "language": "python"
  },
  "language_info": {
   "mimetype": "text/x-python",
   "nbconvert_exporter": "python",
   "name": "python",
   "file_extension": ".py",
   "version": "2.7.10",
   "pygments_lexer": "ipython2",
   "codemirror_mode": {
    "version": 2.0,
    "name": "ipython"
   }
  }
 },
 "nbformat": 4,
 "nbformat_minor": 0
}