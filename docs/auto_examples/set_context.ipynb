{
  "nbformat_minor": 0, 
  "nbformat": 4, 
  "cells": [
    {
      "execution_count": null, 
      "cell_type": "code", 
      "source": [
        "%matplotlib inline"
      ], 
      "outputs": [], 
      "metadata": {
        "collapsed": false
      }
    }, 
    {
      "source": [
        "\n# Setting a context\n\n\nSuperEEG will run in different ways depending your computing environment. To\nchange the computing context, use the `set_context` function.  You can select\nsingle, cluster or define your own custom computing environment.\n\n\n"
      ], 
      "cell_type": "markdown", 
      "metadata": {}
    }, 
    {
      "execution_count": null, 
      "cell_type": "code", 
      "source": [
        "# Code source: Andrew Heusser & Lucy Owen\n# License: MIT\n\nimport superEEG as se\n\n# print default context\nprint(se.context)\n\n# change context to preset cluster default\nse.set_context('cluster')\n\n# print updated context\nprint(se.context)\n\n# change context to custom dict\ngoogle = {\n    'environment' : 'google-cloud',\n    'nodes' : 1000,\n    'memory' : 300,\n}\nse.set_context(google)\nprint(se.context)"
      ], 
      "outputs": [], 
      "metadata": {
        "collapsed": false
      }
    }
  ], 
  "metadata": {
    "kernelspec": {
      "display_name": "Python 2", 
      "name": "python2", 
      "language": "python"
    }, 
    "language_info": {
      "mimetype": "text/x-python", 
      "nbconvert_exporter": "python", 
      "name": "python", 
      "file_extension": ".py", 
      "version": "2.7.11", 
      "pygments_lexer": "ipython2", 
      "codemirror_mode": {
        "version": 2, 
        "name": "ipython"
      }
    }
  }
}