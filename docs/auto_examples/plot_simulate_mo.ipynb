{
  "nbformat_minor": 0, 
  "nbformat": 4, 
  "cells": [
    {
      "execution_count": null, 
      "cell_type": "code", 
      "source": [
        "%matplotlib inline"
      ], 
      "outputs": [], 
      "metadata": {
        "collapsed": false
      }
    }, 
    {
      "source": [
        "\n# Simulate model object\n\n\nIn this example, we simulate 3 brain objects using a subset of 10\nlocations. We will impose a correlational structure (a toeplitz matrix) on\nour simulated brain objects.  Then, we will create a model from these brain\nobjects and plot it.\n\n\n"
      ], 
      "cell_type": "markdown", 
      "metadata": {}
    }, 
    {
      "execution_count": null, 
      "cell_type": "code", 
      "source": [
        "# Code source: Lucy Owen & Andrew Heusser\n# License: MIT\n\nimport supereeg as se\n\n# simulate 100 locations\nlocs = se.simulate_locations(n_elecs=100)\n\n# simulate correlation matrix\nR = se.create_cov(cov='toeplitz', n_elecs=len(locs))\n\n# create list of simulated brain objects\nmodel_bos = [se.simulate_model_bos(n_samples=1000, sample_rate=1000, cov=R,\n                                   locs=locs, sample_locs=10) for x in range(3)]\n\n# create model from subsampled gray locations\nmodel = se.Model(model_bos, locs=locs)\n\n# plot the model\nmodel.plot_data()"
      ], 
      "outputs": [], 
      "metadata": {
        "collapsed": false
      }
    }
  ], 
  "metadata": {
    "kernelspec": {
      "display_name": "Python 2", 
      "name": "python2", 
      "language": "python"
    }, 
    "language_info": {
      "mimetype": "text/x-python", 
      "nbconvert_exporter": "python", 
      "name": "python", 
      "file_extension": ".py", 
      "version": "2.7.10", 
      "pygments_lexer": "ipython2", 
      "codemirror_mode": {
        "version": 2, 
        "name": "ipython"
      }
    }
  }
}