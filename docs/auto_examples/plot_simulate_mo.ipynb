{
  "nbformat_minor": 0, 
  "nbformat": 4, 
  "cells": [
    {
      "execution_count": null, 
      "cell_type": "code", 
      "source": [
        "%matplotlib inline"
      ], 
      "outputs": [], 
      "metadata": {
        "collapsed": false
      }
    }, 
    {
      "source": [
        "\n# Simulate model object\n\n\nThen we simulate 3 brain objects using a subset of 10\nlocations. We will simulate correlational structure (a toeplitz matrix) to impose on\nour simulated data. However, this could also also be accomplished by specififying\ncov='toeplitz' to create the model.\n\n\n"
      ], 
      "cell_type": "markdown", 
      "metadata": {}
    }, 
    {
      "execution_count": null, 
      "cell_type": "code", 
      "source": [
        "# Code source: Lucy Owen & Andrew Heusser\n# License: MIT\n\nimport pandas as pd\nimport supereeg as se\n\n\n# load example model to get locations\nlocs = se.load('example_locations')\n\n# convert to pandas\nlocs = pd.DataFrame(locs, columns=['x', 'y', 'z'])\n\n# simulate correlation matrix\nR = se.create_cov(cov='toeplitz', n_elecs=len(locs))\n\n# create list of simulated brain objects\nmodel_bos = [se.simulate_model_bos(n_samples=100, sample_rate=1000, cov=R, locs=locs, sample_locs=10) for x in range(3)]\n\n# create model from subsampled gray locations\nmodel = se.Model(model_bos, locs=locs)\n\n# plot the model\nmodel.plot()"
      ], 
      "outputs": [], 
      "metadata": {
        "collapsed": false
      }
    }
  ], 
  "metadata": {
    "kernelspec": {
      "display_name": "Python 2", 
      "name": "python2", 
      "language": "python"
    }, 
    "language_info": {
      "mimetype": "text/x-python", 
      "nbconvert_exporter": "python", 
      "name": "python", 
      "file_extension": ".py", 
      "version": "2.7.10", 
      "pygments_lexer": "ipython2", 
      "codemirror_mode": {
        "version": 2, 
        "name": "ipython"
      }
    }
  }
}