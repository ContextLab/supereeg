{
  "nbformat_minor": 0, 
  "nbformat": 4, 
  "cells": [
    {
      "execution_count": null, 
      "cell_type": "code", 
      "source": [
        "%matplotlib inline"
      ], 
      "outputs": [], 
      "metadata": {
        "collapsed": false
      }
    }, 
    {
      "source": [
        "\n# Model reconstruction by number of subjects and electrodes\n\n\nIn this example, we will parametrically vary how many subjects and how many\nelectrodes per subject are used to create the model.  First, we load in some\nexample locations.  Then, we simulate a correlation matrix (toeplitz) to impose\non the simulated subject data. Finally, we loop over number of subjects and\nnumber of randomly chosen electrodes and plot the model at each iteration. As\nthe figure shows, the more subjects and electrodes, the better then recovery of\nthe true model.\n\n\n"
      ], 
      "cell_type": "markdown", 
      "metadata": {}
    }, 
    {
      "execution_count": null, 
      "cell_type": "code", 
      "source": [
        "#\n# # Code source: Andrew Heusser & Lucy Owen\n# # License: MIT\n#\n# import scipy\n# import numpy as np\n# import os\n# import pandas as pd\n# import seaborn as sns\n# import matplotlib.pyplot as plt\n# import superEEG as se\n#\n# # load example model to get locations\n# locs = se.load('example_locations')\n#\n# locs=pd.DataFrame(locs, columns=['x', 'y', 'z'])\n# # simulate correlation matrix\n# R = se.create_cov(cov='toeplitz', n_elecs=len(locs))\n#\n# # n_samples\n# n_samples = 10\n#\n# # initialize subplots\n# f, axarr = plt.subplots(4, 4)\n#\n# # loop over simulated subjects size\n# for isub, n_subs in enumerate([10, 25, 50, 100]):\n#\n#     # loop over simulated electrodes\n#     for ielec, n_elecs in enumerate([10, 25, 50, 100]):\n#\n#         # simulate brain objects for the model\n#         model_bos = [se.simulate_model_bos(n_samples=n_samples, sample_rate=10, locs=locs, sample_locs=n_elecs, cov='toeplitz') for x in\n#                      range(n_subs)]\n#\n#         # create the model object\n#         model = se.Model(data=model_bos, locs=locs)\n#\n#         # plot it\n#         sns.heatmap(np.divide(model.numerator, model.denominator), ax=axarr[isub, ielec], yticklabels=False,\n#                     xticklabels=False, cmap='RdBu_r', cbar=False, vmin=0, vmax=3)\n#\n#         # set the title\n#         axarr[isub, ielec].set_title(str(n_subs) + ' Subjects, ' + str(n_elecs) + ' Electrodes')\n#\n# plt.tight_layout()\n# plt.show()"
      ], 
      "outputs": [], 
      "metadata": {
        "collapsed": false
      }
    }
  ], 
  "metadata": {
    "kernelspec": {
      "display_name": "Python 2", 
      "name": "python2", 
      "language": "python"
    }, 
    "language_info": {
      "mimetype": "text/x-python", 
      "nbconvert_exporter": "python", 
      "name": "python", 
      "file_extension": ".py", 
      "version": "2.7.10", 
      "pygments_lexer": "ipython2", 
      "codemirror_mode": {
        "version": 2, 
        "name": "ipython"
      }
    }
  }
}