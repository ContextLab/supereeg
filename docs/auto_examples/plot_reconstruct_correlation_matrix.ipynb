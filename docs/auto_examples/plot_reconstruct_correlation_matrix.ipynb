{
  "nbformat_minor": 0, 
  "nbformat": 4, 
  "cells": [
    {
      "execution_count": null, 
      "cell_type": "code", 
      "source": [
        "%matplotlib inline"
      ], 
      "outputs": [], 
      "metadata": {
        "collapsed": false
      }
    }, 
    {
      "source": [
        "\n# Model reconstruction by number of subjects and electrodes\n\n\nIn this example, we will parametrically vary how many subjects and how many\nelectrodes per subject are used to create the model.  First, we load in some\nexample locations.  Then, we simulate a correlation matrix (toeplitz) to impose\non the simulated subject data. Finally, we loop over number of subjects and\nnumber of randomly chosen electrodes and plot the model at each iteration. As\nthe figure shows, the more subjects and electrodes, the better then recovery of\nthe true model.\n\n\n"
      ], 
      "cell_type": "markdown", 
      "metadata": {}
    }, 
    {
      "execution_count": null, 
      "cell_type": "code", 
      "source": [
        "# Code source: Andrew Heusser & Lucy Owen\n# License: MIT\n\nimport scipy\nimport numpy as np\nimport os\nimport pandas as pd\nimport seaborn as sns\nimport matplotlib.pyplot as plt\nimport superEEG as se\n\n# load example model to get locations\nlocs = se.load('example_locations')\n\n# simulate correlation matrix\nR = scipy.linalg.toeplitz(np.linspace(0,1,len(locs))[::-1])\n\n# n_samples\nn_samples = 1000\n\n# initialize subplots\nf, axarr = plt.subplots(4, 4)\n\n# loop over simulated subjects size\nfor isub, n_subs in enumerate([10, 25, 50, 100]):\n\n    # loop over simulated electrodes\n    for ielec, n_elecs in enumerate([10, 25, 50, 100]):\n\n        # initialize data list\n        data = []\n\n        # loop over simulated subjects\n        for i in range(n_subs):\n\n            # for each subject, randomly choose n_elecs electrode locations\n            p = np.random.choice(range(len(locs)), n_elecs, replace=False)\n\n            # generate some random data\n            rand_dist = np.random.multivariate_normal(np.zeros(len(locs)), np.eye(len(locs)), size=n_samples)\n\n            # impose R correlational structure on the random data, create the brain object and append to data\n            data.append(se.Brain(data=np.dot(rand_dist, scipy.linalg.cholesky(R))[:,p], locs=pd.DataFrame(locs[p,:], columns=['x', 'y', 'z'])))\n\n        # create the model object\n        model = se.Model(data=data, locs=locs)\n\n        # plot it\n        sns.heatmap(np.divide(model.numerator,model.denominator), ax=axarr[isub,ielec], yticklabels=False, xticklabels=False, cmap='RdBu_r', cbar=False, vmin=0, vmax=3)\n\n        # set the title\n        axarr[isub,ielec].set_title(str(n_subs) + ' Subjects, ' + str(n_elecs) + ' Electrodes')\n\n        print(str(n_subs) + ' Subjects, ' + str(n_elecs) + ' Electrodes')\n\nsns.plt.show()"
      ], 
      "outputs": [], 
      "metadata": {
        "collapsed": false
      }
    }
  ], 
  "metadata": {
    "kernelspec": {
      "display_name": "Python 2", 
      "name": "python2", 
      "language": "python"
    }, 
    "language_info": {
      "mimetype": "text/x-python", 
      "nbconvert_exporter": "python", 
      "name": "python", 
      "file_extension": ".py", 
      "version": "2.7.11", 
      "pygments_lexer": "ipython2", 
      "codemirror_mode": {
        "version": 2, 
        "name": "ipython"
      }
    }
  }
}