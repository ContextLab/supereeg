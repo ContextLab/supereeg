{
  "nbformat_minor": 0, 
  "nbformat": 4, 
  "cells": [
    {
      "execution_count": null, 
      "cell_type": "code", 
      "source": [
        "%matplotlib inline"
      ], 
      "outputs": [], 
      "metadata": {
        "collapsed": false
      }
    }, 
    {
      "source": [
        "\n# Explore labels\n\n\nIn this example, we load in a single subject example, load a model, and predict activity at all\nmodel locations. We then parse the values based on the labels.\n\n\n"
      ], 
      "cell_type": "markdown", 
      "metadata": {}
    }, 
    {
      "execution_count": null, 
      "cell_type": "code", 
      "source": [
        "# Code source: Lucy Owen & Andrew Heusser\n# License: MIT\n\nimport superEEG as se\nimport copy as copy\nimport pandas as pd\n\n# load example data\nbo = se.load('example_data')\n\n# load example model\nmodel = se.load('example_model')\n\n# the default will replace the electrode location with the nearest voxel and reconstruct at all other locations\nreconstructed_bo = model.predict(bo)\n\n# find the observed indices\nobs_inds = [i for i, x in enumerate(reconstructed_bo.label) if x == 'observed']\n\n# make a copy of the brain object\no_bo = copy.copy(reconstructed_bo )\n\n# replace fields with indexed data and locations\no_bo.data = pd.DataFrame(o_bo.get_data()[obs_inds, :])\no_bo.locs = pd.DataFrame(o_bo.get_locs()[obs_inds], columns=['x', 'y', 'z'])\n\n# plot the original locations\nbo.plot_locs()\n\n# plot the nearest voxel used in the reconstruction\no_bo.plot_locs()"
      ], 
      "outputs": [], 
      "metadata": {
        "collapsed": false
      }
    }
  ], 
  "metadata": {
    "kernelspec": {
      "display_name": "Python 2", 
      "name": "python2", 
      "language": "python"
    }, 
    "language_info": {
      "mimetype": "text/x-python", 
      "nbconvert_exporter": "python", 
      "name": "python", 
      "file_extension": ".py", 
      "version": "2.7.10", 
      "pygments_lexer": "ipython2", 
      "codemirror_mode": {
        "version": 2, 
        "name": "ipython"
      }
    }
  }
}