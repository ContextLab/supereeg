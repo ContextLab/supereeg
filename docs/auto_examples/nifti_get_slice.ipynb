{
  "nbformat_minor": 0, 
  "nbformat": 4, 
  "cells": [
    {
      "execution_count": null, 
      "cell_type": "code", 
      "source": [
        "%matplotlib inline"
      ], 
      "outputs": [], 
      "metadata": {
        "collapsed": false
      }
    }, 
    {
      "source": [
        "\n# Index nifti object\n\n\nIn this example, we load a brain object as a nifti object, and index 5 timepoints.\n\n\n"
      ], 
      "cell_type": "markdown", 
      "metadata": {}
    }, 
    {
      "execution_count": null, 
      "cell_type": "code", 
      "source": [
        "# Code source: Lucy Owen & Andrew Heusser\n# License: MIT\n\n# load\n\nimport supereeg as se\n\n#  initialize a nifti object with a brain object or model object\nbo_nii = se.load('example_data', return_type='nii')\n\n# or you can slice first 5 time points\nbo_nii_slice = bo_nii.get_slice(index=[0,1,2,3,4])\n\n# plot just the first timepoint by default\nbo_nii_slice.plot_glass_brain()"
      ], 
      "outputs": [], 
      "metadata": {
        "collapsed": false
      }
    }
  ], 
  "metadata": {
    "kernelspec": {
      "display_name": "Python 2", 
      "name": "python2", 
      "language": "python"
    }, 
    "language_info": {
      "mimetype": "text/x-python", 
      "nbconvert_exporter": "python", 
      "name": "python", 
      "file_extension": ".py", 
      "version": "2.7.10", 
      "pygments_lexer": "ipython2", 
      "codemirror_mode": {
        "version": 2, 
        "name": "ipython"
      }
    }
  }
}