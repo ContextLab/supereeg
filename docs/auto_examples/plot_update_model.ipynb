{
  "nbformat_minor": 0, 
  "nbformat": 4, 
  "cells": [
    {
      "execution_count": null, 
      "cell_type": "code", 
      "source": [
        "%matplotlib inline"
      ], 
      "outputs": [], 
      "metadata": {
        "collapsed": false
      }
    }, 
    {
      "source": [
        "\n=============================\nCreate a model from scratch, and then update it with new subject data\n=============================\n\nIn this example, we will simulate a model and update the model with the new data.\nFirst, we'll load in some example locations. Then, we will simulate\ncorrelational structure (a toeplitz matrix) to impose on our simulated data.\nWe simulate 3 brain objects by sampling 10 locations from example_locs and\ncreate a model from these brain objects. Then, we will simulate an additional\nbrain object and use the model.update method to update an existing model with\nnew data.\n\n\n"
      ], 
      "cell_type": "markdown", 
      "metadata": {}
    }, 
    {
      "execution_count": null, 
      "cell_type": "code", 
      "source": [
        "# Code source: Andrew Heusser & Lucy Owen\n# License: MIT\n\n# import libraries\nfrom builtins import range\nimport matplotlib.pyplot as plt\nimport supereeg as se\n\n\n# load example model to get locations\nmo = se.load('example_model')\nlocs = mo.locs\n\n# simulate correlation matrix\nR = se.create_cov(cov='toeplitz', n_elecs=len(locs))\n\n# simulate brain objects for the model that subsample n_elecs for each synthetic patient\nmodel_bos = [se.simulate_model_bos(n_samples=1000, sample_rate=1000, locs=locs, sample_locs=10, cov='toeplitz')\n             for x in range(3)]\n\n# create the model object\nmodel = se.Model(data=model_bos, locs=locs)\n\n# brain object locations subsetted\nsub_locs = locs.sample(10).sort_values(['x', 'y', 'z'])\n\n# simulate a new brain object using the same covariance matrix\nbo = se.simulate_bo(n_samples=1000, sample_rate=1000, locs=sub_locs, cov='toeplitz')\n\n# update the model\nnew_model = model.update(bo)\n\n# initialize subplots\nf, (ax1, ax2) = plt.subplots(1, 2)\nf.set_size_inches(14,6)\n\n# plot it and set the title\nmodel.plot_data(ax=ax1, show=False, yticklabels=False, xticklabels=False, cmap='RdBu_r', cbar=True, vmin=0, vmax=1)\nax1.set_title('Before updating model: 3 subjects total')\n\n# plot it and set the title\nnew_model.plot_data(ax=ax2, show=False, yticklabels=False, xticklabels=False, cmap='RdBu_r', cbar=True, vmin=0, vmax=1)\nax2.set_title('After updating model: 4 subjects total')\n\nplt.tight_layout()\nplt.show()"
      ], 
      "outputs": [], 
      "metadata": {
        "collapsed": false
      }
    }
  ], 
  "metadata": {
    "kernelspec": {
      "display_name": "Python 2", 
      "name": "python2", 
      "language": "python"
    }, 
    "language_info": {
      "mimetype": "text/x-python", 
      "nbconvert_exporter": "python", 
      "name": "python", 
      "file_extension": ".py", 
      "version": "2.7.10", 
      "pygments_lexer": "ipython2", 
      "codemirror_mode": {
        "version": 2, 
        "name": "ipython"
      }
    }
  }
}