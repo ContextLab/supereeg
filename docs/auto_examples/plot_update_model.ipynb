{
  "nbformat_minor": 0, 
  "nbformat": 4, 
  "cells": [
    {
      "execution_count": null, 
      "cell_type": "code", 
      "source": [
        "%matplotlib inline"
      ], 
      "outputs": [], 
      "metadata": {
        "collapsed": false
      }
    }, 
    {
      "source": [
        "\n=============================\nCreate a model from scratch, and then update it with new subject data\n=============================\n\nIn this example, we will simulate a model and some data, and see if we can\nrecover the model from the data. First, we'll load in some example locations.\nThen, we will simulate correlational structure (a toeplitz matrix) to impose on\nour simulated data.  This will allow us to test whether we can recover the\ncorrelational structure in the data, and how that changes as a function of the\nnumber of subjects in the model. Then, we will simulate 10 subjects and create\nbrain objects with their data.  The left figure shows the model derived from\n10 simulated subjects.  Finally, we simulate 10 additional subjects and use the\nmodel.update method to update an existing model with new data. On the right, the\nupdated model is plotted. As is apparent from the figures, the more data in the\nmodel, the better the true correlational structure can be recovered.\n\n\n"
      ], 
      "cell_type": "markdown", 
      "metadata": {}
    }, 
    {
      "execution_count": null, 
      "cell_type": "code", 
      "source": [
        "# Code source: Andrew Heusser & Lucy Owen\n# License: MIT\n\n# import libraries\nimport os\nimport scipy\nimport numpy as np\nimport pandas as pd\nimport seaborn as sns\nimport matplotlib.pyplot as plt\nimport superEEG as se\n\n# load example model to get locations\nlocs = se.load('example_locations')\n\n# convert to pandas\nlocs=pd.DataFrame(locs, columns=['x', 'y', 'z'])\n\n# simulate correlation matrix\nR = se.create_cov(cov='toeplitz', n_elecs=len(locs))\n\n# number of timeseries samples\nn_samples = 1000\n\n# number of subjects\nn_subs = 10\n\n# number of electrodes\nn_elecs = 20\n\n# simulate brain objects for the model that subsample n_elecs for each synthetic patient\nmodel_bos = [se.simulate_model_bos(n_samples=1000, sample_rate=1000, locs=locs, sample_locs=n_elecs, cov='toeplitz') for x in\n                     range(n_subs)]\n\n# create the model object\nmodel = se.Model(data=model_bos, locs=locs)\n\n# brain object locations subsetted entirely from both model and gray locations - for this n > m (this isn't necessarily true, but this ensures overlap)\nsub_locs = locs.sample(n_elecs).sort_values(['x', 'y', 'z'])\n\n# simulate a new brain object using the same covariance matrix\nbo = se.simulate_bo(n_samples=1000, sample_rate=1000, locs=sub_locs, cov='toeplitz')\n\n# update the model\nnew_model = model.update(bo)\n\n# simulate brain objects for the model that subsample n_elecs for each synthetic patient\nmodel_update_bos = [se.simulate_model_bos(n_samples=1000, sample_rate=1000, locs=locs, sample_locs=n_elecs, cov='toeplitz') for y in\n                     range(n_subs)]\n\n# update the model\nbetter_model = model.update(model_update_bos)\n\n# initialize subplots\nf, (ax1, ax2, ax3) = plt.subplots(1, 3)\n\n# plot it and set the title\nmodel.plot(ax=ax1, yticklabels=False, xticklabels=False, cmap='RdBu_r', cbar=True, vmin=0, vmax=1)\nax1.set_title('Before updating model: 10 subjects total')\n\n# plot it and set the title\nnew_model.plot(ax=ax2, yticklabels=False, xticklabels=False, cmap='RdBu_r', cbar=True, vmin=0, vmax=1)\nax2.set_title('After updating model: 11 subjects total')\n\n# plot it and set the title\nbetter_model.plot(ax=ax3, yticklabels=False, xticklabels=False, cmap='RdBu_r', cbar=True, vmin=0, vmax=1)\nax3.set_title('After updating model: 20 subjects total')\n\nplt.show()"
      ], 
      "outputs": [], 
      "metadata": {
        "collapsed": false
      }
    }
  ], 
  "metadata": {
    "kernelspec": {
      "display_name": "Python 2", 
      "name": "python2", 
      "language": "python"
    }, 
    "language_info": {
      "mimetype": "text/x-python", 
      "nbconvert_exporter": "python", 
      "name": "python", 
      "file_extension": ".py", 
      "version": "2.7.10", 
      "pygments_lexer": "ipython2", 
      "codemirror_mode": {
        "version": 2, 
        "name": "ipython"
      }
    }
  }
}