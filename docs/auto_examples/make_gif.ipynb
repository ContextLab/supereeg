{
  "nbformat_minor": 0, 
  "nbformat": 4, 
  "cells": [
    {
      "execution_count": null, 
      "cell_type": "code", 
      "source": [
        "%matplotlib inline"
      ], 
      "outputs": [], 
      "metadata": {
        "collapsed": false
      }
    }, 
    {
      "source": [
        "\n# Make gif\n\n\nIn this example, we load in a single subject example, remove electrodes that exceed\na kurtosis threshold (in place), load a model, and predict activity at all\nmodel locations.  We then convert the reconstruction to a nifti and plot 3 consecutive timepoints\nfirst with the plot_glass_brain and then create .png files and compile as a gif.\n\n\n"
      ], 
      "cell_type": "markdown", 
      "metadata": {}
    }, 
    {
      "execution_count": null, 
      "cell_type": "code", 
      "source": [
        "# Code source: Lucy Owen & Andrew Heusser\n# License: MIT\n\n# load\nimport supereeg as se\n\n# load example data\nbo = se.load('example_data')\n\n# load example model\nmodel = se.load('example_model')\n\n# the default will replace the electrode location with the nearest voxel and reconstruct at all other locations\nreconstructed_bo = model.predict(bo)\n\n# print out info on new brain object\nreconstructed_bo.info()\n\n# slice first 3 timepoints and convert to nifti\nreconstructed_nifti = reconstructed_bo[0:3].to_nii(template='gray', vox_size=20)\n\n# make gif, default time window is 0 to 10, but you can specifiy by setting a range with index\n#reconstructed_nifti.make_gif(gif_path='/your/path/to/gif', index=samples, name='sample_gif')"
      ], 
      "outputs": [], 
      "metadata": {
        "collapsed": false
      }
    }
  ], 
  "metadata": {
    "kernelspec": {
      "display_name": "Python 2", 
      "name": "python2", 
      "language": "python"
    }, 
    "language_info": {
      "mimetype": "text/x-python", 
      "nbconvert_exporter": "python", 
      "name": "python", 
      "file_extension": ".py", 
      "version": "2.7.10", 
      "pygments_lexer": "ipython2", 
      "codemirror_mode": {
        "version": 2, 
        "name": "ipython"
      }
    }
  }
}