{
  "nbformat_minor": 0, 
  "nbformat": 4, 
  "cells": [
    {
      "execution_count": null, 
      "cell_type": "code", 
      "source": [
        "%matplotlib inline"
      ], 
      "outputs": [], 
      "metadata": {
        "collapsed": false
      }
    }, 
    {
      "source": [
        "\n# Convert and save nifti file\n\n\nThis example converts a brain object into a nifti and saves it.\n\n\n"
      ], 
      "cell_type": "markdown", 
      "metadata": {}
    }, 
    {
      "execution_count": null, 
      "cell_type": "code", 
      "source": [
        "# Code source: Lucy Owen & Andrew Heusser\n# License: MIT\n\n# import\nimport supereeg as se\n\n\n# load example data to convert to nifti\nbo = se.load('example_data')\n\n# convert to nifti two ways:\n\n# if no parameters are passed default uses gray matter masked brain downsampled to 6 mm resolution\n# 1: convert with to_nii() method\nnii_bo1 = bo.to_nii(template='gray', vox_size=20)\n\nnii_bo1.plot_glass_brain()\n\n# 2: pass to initialize nifti\nnii_bo2 = se.Nifti(bo, template='gray', vox_size=20)\n\nnii_bo2.plot_glass_brain()\n\n# save nifti\n#nii_bo.save('/path/to/save/nifti')"
      ], 
      "outputs": [], 
      "metadata": {
        "collapsed": false
      }
    }
  ], 
  "metadata": {
    "kernelspec": {
      "display_name": "Python 2", 
      "name": "python2", 
      "language": "python"
    }, 
    "language_info": {
      "mimetype": "text/x-python", 
      "nbconvert_exporter": "python", 
      "name": "python", 
      "file_extension": ".py", 
      "version": "2.7.10", 
      "pygments_lexer": "ipython2", 
      "codemirror_mode": {
        "version": 2, 
        "name": "ipython"
      }
    }
  }
}