{
  "nbformat_minor": 0, 
  "nbformat": 4, 
  "cells": [
    {
      "execution_count": null, 
      "cell_type": "code", 
      "source": [
        "%matplotlib inline"
      ], 
      "outputs": [], 
      "metadata": {
        "collapsed": false
      }
    }, 
    {
      "source": [
        "\n# Slice brain object\n\n\nHere, we load an example dataset, and then slice out some electrodes and time\nsamples.\n\n\n"
      ], 
      "cell_type": "markdown", 
      "metadata": {}
    }, 
    {
      "execution_count": null, 
      "cell_type": "code", 
      "source": [
        "# Code source: Lucy Owen & Andrew Heusser\n# License: MIT\n\n# import\nimport supereeg as se\n\n# load example data\nbo = se.load('example_data')\n\n# check out the brain object (bo)\nbo.info()\n\n# index by first 5 timepoints\nbo_t = bo.get_slice(sample_inds=range(5))\n\n# or index by the 10th location\nbo_l = bo.get_slice(loc_inds=10)\n\n# or index by both locations and times\nbo_i = bo.get_slice(sample_inds=[1,2,3,4,5], loc_inds=[10,11,12])\n\nbo_i.info()"
      ], 
      "outputs": [], 
      "metadata": {
        "collapsed": false
      }
    }
  ], 
  "metadata": {
    "kernelspec": {
      "display_name": "Python 2", 
      "name": "python2", 
      "language": "python"
    }, 
    "language_info": {
      "mimetype": "text/x-python", 
      "nbconvert_exporter": "python", 
      "name": "python", 
      "file_extension": ".py", 
      "version": "2.7.10", 
      "pygments_lexer": "ipython2", 
      "codemirror_mode": {
        "version": 2, 
        "name": "ipython"
      }
    }
  }
}