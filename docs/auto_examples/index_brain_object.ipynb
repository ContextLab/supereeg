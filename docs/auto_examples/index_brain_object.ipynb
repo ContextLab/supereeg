{
  "nbformat_minor": 0, 
  "nbformat": 4, 
  "cells": [
    {
      "execution_count": null, 
      "cell_type": "code", 
      "source": [
        "%matplotlib inline"
      ], 
      "outputs": [], 
      "metadata": {
        "collapsed": false
      }
    }, 
    {
      "source": [
        "\n# Slice brain object\n\n\nHere, we load an example dataset, and then slice out some electrodes and time\nsamples.\n\n\n"
      ], 
      "cell_type": "markdown", 
      "metadata": {}
    }, 
    {
      "execution_count": null, 
      "cell_type": "code", 
      "source": [
        "# Code source: Lucy Owen & Andrew Heusser\n# License: MIT\n\n# import\nimport supereeg as se\n\n# load example data\nbo = se.load('example_data')\n\n# check out the brain object (bo)\nbo.info()\n\n# indexing:\n\n#returns first time sample\nbo1 = bo[0]\n\n#return first 5 time samples\nbo2 = bo[:5]\n\n#return first electrode\nbo3 = bo[:, 0]\n\n#returns first 5 timesamples/elecs\nbo4 = bo[:5, :5]\n\n# or index by both locations and times in place using get_slice method\nbo.get_slice(sample_inds=[1,2,3,4,5], loc_inds=[10,11,12], inplace=True)"
      ], 
      "outputs": [], 
      "metadata": {
        "collapsed": false
      }
    }
  ], 
  "metadata": {
    "kernelspec": {
      "display_name": "Python 2", 
      "name": "python2", 
      "language": "python"
    }, 
    "language_info": {
      "mimetype": "text/x-python", 
      "nbconvert_exporter": "python", 
      "name": "python", 
      "file_extension": ".py", 
      "version": "2.7.10", 
      "pygments_lexer": "ipython2", 
      "codemirror_mode": {
        "version": 2, 
        "name": "ipython"
      }
    }
  }
}