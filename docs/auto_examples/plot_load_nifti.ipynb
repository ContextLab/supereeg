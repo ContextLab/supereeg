{
  "nbformat_minor": 0, 
  "nbformat": 4, 
  "cells": [
    {
      "execution_count": null, 
      "cell_type": "code", 
      "source": [
        "%matplotlib inline"
      ], 
      "outputs": [], 
      "metadata": {
        "collapsed": false
      }
    }, 
    {
      "source": [
        "\n# Load and save nifti file\n\n\nThis example loads a nifti file and converts it into a brain object.\n\n\n"
      ], 
      "cell_type": "markdown", 
      "metadata": {}
    }, 
    {
      "execution_count": null, 
      "cell_type": "code", 
      "source": [
        "# Code source: Lucy Owen & Andrew Heusser\n# License: MIT\n\n# import\nimport supereeg as se\n\n\n# load Nifti\n# example nifti is the gray matter masked MNI152 brain downsampled to 20mm\nnii = se.load('example_nifti')\n\n# plot nifti\nnii.plot_anat()\n\n# create Nifti with affine and dataobj\naf = nii.affine\ndo = nii.dataobj\nmake_nii= se.Nifti(do, affine=af)\n\n\n# nifti -> brain object - initialize brain object with nifti object\nbo = se.Brain(nii)\n\n# plot brain object\nbo.plot_data()\n\n# export brain object -> nifti\nnii_r = bo.to_nii(template='gray', vox_size=20)\n\n# plot the result (same as before)\nnii_r.plot_anat()\n\n# or initialize nifti object with brain object\nnii_bo = se.Nifti(bo)\n\n# # plot the result (same as before)\nnii_bo.plot_anat()"
      ], 
      "outputs": [], 
      "metadata": {
        "collapsed": false
      }
    }
  ], 
  "metadata": {
    "kernelspec": {
      "display_name": "Python 2", 
      "name": "python2", 
      "language": "python"
    }, 
    "language_info": {
      "mimetype": "text/x-python", 
      "nbconvert_exporter": "python", 
      "name": "python", 
      "file_extension": ".py", 
      "version": "2.7.10", 
      "pygments_lexer": "ipython2", 
      "codemirror_mode": {
        "version": 2, 
        "name": "ipython"
      }
    }
  }
}